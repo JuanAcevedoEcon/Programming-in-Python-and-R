{
 "cells": [
  {
   "cell_type": "markdown",
   "id": "145b2852",
   "metadata": {
    "id": "145b2852"
   },
   "source": [
    "**Complex Numbers**\n",
    "\n",
    "Aunque se usan con menos frecuencia que los tipos que hemos estado explorando hasta ahora, los números complejos son un tipo de objeto central distinto en Python. Por lo general, se utilizan en aplicaciones científicas y de ingeniería."
   ]
  },
  {
   "cell_type": "code",
   "execution_count": null,
   "id": "23db54f7",
   "metadata": {},
   "outputs": [],
   "source": []
  },
  {
   "cell_type": "markdown",
   "id": "d6d4e74e",
   "metadata": {
    "id": "d6d4e74e"
   },
   "source": [
    "**Otras herramientas numéricas integradas**\n",
    "\n",
    "Además de sus tipos de objetos principales, Python también proporciona funciones integradas y módulos de biblioteca estándar para el procesamiento numérico. Las funciones integradas pow y abs, por ejemplo, calculan potencias y valores absolutos, respectivamente."
   ]
  },
  {
   "cell_type": "code",
   "execution_count": null,
   "id": "01fd7feb",
   "metadata": {
    "id": "01fd7feb",
    "outputId": "75fa4e3a-6ee0-4af7-c064-e42e80edc7e0"
   },
   "outputs": [],
   "source": []
  },
  {
   "cell_type": "markdown",
   "id": "6d4f4844",
   "metadata": {
    "id": "6d4f4844"
   },
   "source": [
    "**Librería Random**\n",
    "\n",
    "También se debe importar el módulo aleatorio de la biblioteca estándar. Este módulo proporciona una variedad de herramientas, para tareas como elegir un número de punto flotante aleatorio entre 0 y 1, y seleccionar un número entero aleatorio entre dos números:"
   ]
  },
  {
   "cell_type": "code",
   "execution_count": null,
   "id": "0155873e",
   "metadata": {},
   "outputs": [],
   "source": []
  },
  {
   "cell_type": "markdown",
   "id": "775c578d",
   "metadata": {
    "id": "775c578d"
   },
   "source": [
    "**Set**\n",
    "\n",
    "Un conjunto es una colección desordenada de objetos únicos e inmutables que admite operaciones correspondientes a la teoría matemática de conjuntos. Por definición, un elemento aparece solo una vez en un conjunto, no importa cuántas veces se agregue. En consecuencia, los conjuntos tienen una variedad de aplicaciones, especialmente en trabajos numéricos y centrados en bases de datos."
   ]
  },
  {
   "cell_type": "code",
   "execution_count": null,
   "id": "5f7a9beb",
   "metadata": {},
   "outputs": [],
   "source": []
  },
  {
   "cell_type": "markdown",
   "id": "f1cc6631",
   "metadata": {
    "id": "f1cc6631"
   },
   "source": [
    "Los conjuntos son convenientes cuando se trata de conjuntos de datos grandes (resultados de consultas de base de datos, por ejemplo): la intersección de dos conjuntos contiene objetos comunes a ambas categorías, y la unión contiene todos los elementos de cualquiera de los conjuntos"
   ]
  },
  {
   "cell_type": "code",
   "execution_count": null,
   "id": "d5b92280",
   "metadata": {
    "id": "d5b92280"
   },
   "outputs": [],
   "source": [
    "engineers = {'bob', 'sue', 'ann', 'vic'}\n",
    "managers = {'tom', 'sue'}"
   ]
  },
  {
   "cell_type": "code",
   "execution_count": null,
   "id": "68f25724",
   "metadata": {},
   "outputs": [],
   "source": []
  },
  {
   "cell_type": "markdown",
   "id": "99317131",
   "metadata": {
    "id": "99317131"
   },
   "source": [
    "## Operadores Lógicos"
   ]
  },
  {
   "cell_type": "markdown",
   "id": "dcf32fc0",
   "metadata": {
    "id": "dcf32fc0"
   },
   "source": [
    "Antes de indagar en los operadores lógicos, hay que realizar una claridad sobre los valores booleanos True or False, estos pueden ser tratados como una variable dummy, 1 en caso de True y 0 en caso de False."
   ]
  },
  {
   "cell_type": "code",
   "execution_count": null,
   "id": "eeb6e25f",
   "metadata": {},
   "outputs": [],
   "source": []
  },
  {
   "cell_type": "markdown",
   "id": "bd60a395",
   "metadata": {
    "id": "bd60a395"
   },
   "source": [
    "**Operador AND**\n",
    "\n",
    "El operador and evalúa si el valor a la izquierda y el de la derecha son True, y en el caso de ser cierto, devuelve True. Si uno de los dos valores es False, el resultado será False."
   ]
  },
  {
   "cell_type": "code",
   "execution_count": null,
   "id": "4148e802",
   "metadata": {
    "colab": {
     "base_uri": "https://localhost:8080/"
    },
    "executionInfo": {
     "elapsed": 10,
     "status": "ok",
     "timestamp": 1637681351319,
     "user": {
      "displayName": "Unidad Informatica Y De Comunicaciones Facultad de Ciencias Economicas",
      "photoUrl": "https://lh3.googleusercontent.com/a-/AOh14GjrkmUsagG7a52xhu1Z5wDH2uOQcLv9ezHicsJnsw=s64",
      "userId": "18036213051524703869"
     },
     "user_tz": 300
    },
    "id": "4148e802",
    "outputId": "adc037a1-bfea-4691-e9f4-83b37b29918a"
   },
   "outputs": [],
   "source": [
    "print(True and True)   \n",
    "print(True and False)  \n",
    "print(False and True)  \n",
    "print(False and False)"
   ]
  },
  {
   "cell_type": "code",
   "execution_count": null,
   "id": "8bf3be7c",
   "metadata": {},
   "outputs": [],
   "source": []
  },
  {
   "cell_type": "markdown",
   "id": "42f1d1b5",
   "metadata": {
    "id": "42f1d1b5"
   },
   "source": [
    "**Operador OR**\n",
    "\n",
    "El operador or devuelve True cuando al menos uno de los elementos es igual a True. Es decir, evalúa si el valor a la izquierda o el de la derecha son True."
   ]
  },
  {
   "cell_type": "code",
   "execution_count": null,
   "id": "ccae7385",
   "metadata": {
    "colab": {
     "base_uri": "https://localhost:8080/"
    },
    "executionInfo": {
     "elapsed": 9,
     "status": "ok",
     "timestamp": 1637681351320,
     "user": {
      "displayName": "Unidad Informatica Y De Comunicaciones Facultad de Ciencias Economicas",
      "photoUrl": "https://lh3.googleusercontent.com/a-/AOh14GjrkmUsagG7a52xhu1Z5wDH2uOQcLv9ezHicsJnsw=s64",
      "userId": "18036213051524703869"
     },
     "user_tz": 300
    },
    "id": "ccae7385",
    "outputId": "dd63b4f2-45e0-4760-d48d-ecc9ec0436c9"
   },
   "outputs": [],
   "source": [
    "print(True or True)   \n",
    "print(True or False)  \n",
    "print(False or True)  \n",
    "print(False or False)"
   ]
  },
  {
   "cell_type": "code",
   "execution_count": null,
   "id": "8780e815",
   "metadata": {},
   "outputs": [],
   "source": []
  },
  {
   "cell_type": "markdown",
   "id": "56f1c5b1",
   "metadata": {
    "id": "56f1c5b1"
   },
   "source": [
    "**Operador NOT**\n",
    "\n",
    "Simplemente invierte True por False y False por True."
   ]
  },
  {
   "cell_type": "code",
   "execution_count": null,
   "id": "d3780460",
   "metadata": {
    "colab": {
     "base_uri": "https://localhost:8080/"
    },
    "executionInfo": {
     "elapsed": 8,
     "status": "ok",
     "timestamp": 1637681351321,
     "user": {
      "displayName": "Unidad Informatica Y De Comunicaciones Facultad de Ciencias Economicas",
      "photoUrl": "https://lh3.googleusercontent.com/a-/AOh14GjrkmUsagG7a52xhu1Z5wDH2uOQcLv9ezHicsJnsw=s64",
      "userId": "18036213051524703869"
     },
     "user_tz": 300
    },
    "id": "d3780460",
    "outputId": "1c0a6a58-2cbe-4f93-89af-6e4c26315b77"
   },
   "outputs": [],
   "source": [
    "print(not True)\n",
    "print(not False) \n",
    "print(not not not not True) "
   ]
  },
  {
   "cell_type": "code",
   "execution_count": null,
   "id": "f706d3c8",
   "metadata": {},
   "outputs": [],
   "source": []
  },
  {
   "cell_type": "markdown",
   "id": "47a2ce86",
   "metadata": {
    "id": "47a2ce86"
   },
   "source": [
    "## Sentencias condicionales\n",
    "\n",
    "Los condicionales nos permiten comprobar condiciones y hacer que nuestro programa se comporte de una forma u otra, que ejecute un fragmento de código u otro, dependiendo de esta condición. Aquí es donde cobran su importancia el tipo booleano y los operadores lógicos y relacionales."
   ]
  },
  {
   "cell_type": "markdown",
   "id": "1344e7a7",
   "metadata": {
    "id": "1344e7a7"
   },
   "source": [
    "**IF**\n",
    "\n",
    "![image.png](data:image/png;base64,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)\n",
    "\n",
    "La forma más simple de un estamento condicional es un if (del inglés\n",
    "si) seguido de la condición a evaluar, dos puntos (:) y en la siguiente\n",
    "línea e indentado, el código a ejecutar en caso de que se cumpla dicha\n",
    "condición. Suponga el ingreso a un bar:"
   ]
  },
  {
   "cell_type": "code",
   "execution_count": null,
   "id": "eab3bf89",
   "metadata": {
    "id": "eab3bf89",
    "outputId": "c89f4604-8c94-416d-8be6-01eaa7c7bcf5"
   },
   "outputs": [],
   "source": [
    "edad = 20\n",
    "\n",
    "if _____ >= __:\n",
    "    print(\"Bienvenido al bar de python\")\n",
    "    \n",
    "print(\"Hasta luego!\")"
   ]
  },
  {
   "cell_type": "markdown",
   "id": "b0ecb0c3",
   "metadata": {
    "id": "b0ecb0c3"
   },
   "source": [
    "Si la compra es mayor a 100.000, obtengo un descuento del 10%."
   ]
  },
  {
   "cell_type": "code",
   "execution_count": null,
   "id": "8865cb9c",
   "metadata": {
    "id": "8865cb9c"
   },
   "outputs": [],
   "source": [
    "total_compra = 200000\n",
    "\n",
    "if _________ > 100000: \n",
    "    tasa_descuento = 10 \n",
    "    importe_descuento = total_compra * tasa_descuento / 100 \n",
    "    importe_a_pagar = total_compra - importe_descuento"
   ]
  },
  {
   "cell_type": "markdown",
   "id": "b28e9da1",
   "metadata": {
    "id": "b28e9da1"
   },
   "source": [
    "**If ... Else**\n",
    "\n",
    "![image.png](data:image/png;base64,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)\n",
    "\n",
    "¿Qué haríamos si quisiéramos que se ejecutaran unas ciertas órdenes en el caso de\n",
    "que la condición no se cumpliera? Sigamos con el ejemplo del bar:"
   ]
  },
  {
   "cell_type": "code",
   "execution_count": null,
   "id": "2a404f02",
   "metadata": {
    "id": "2a404f02",
    "outputId": "ab03e6a6-e128-417a-bd01-a24db676792d"
   },
   "outputs": [],
   "source": [
    "edad = 20\n",
    "\n",
    "if _____ >= __:\n",
    "    print(\"Bienvenido al bar de python\")\n",
    "____:\n",
    "    print(\"Lo lamento, eres menor de edad y no puedes ingresar.\")\n",
    "    \n",
    "print(\"Hasta luego!\")"
   ]
  },
  {
   "cell_type": "markdown",
   "id": "e920c67e",
   "metadata": {
    "id": "e920c67e"
   },
   "source": [
    "Y si estamos en un semáforo?"
   ]
  },
  {
   "cell_type": "code",
   "execution_count": null,
   "id": "97d4a165",
   "metadata": {
    "id": "97d4a165",
    "outputId": "45726f53-7643-4e60-e72d-2af0170351ce"
   },
   "outputs": [],
   "source": []
  },
  {
   "cell_type": "markdown",
   "id": "28b9d1c7",
   "metadata": {
    "id": "28b9d1c7"
   },
   "source": [
    "**IF..Elif..Else**\n",
    "\n",
    "![image.png](data:image/png;base64,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)\n",
    "\n",
    "Elif es una contracción de else if, por lo tanto elif numero > 0 puede leerse como “si no, si numero es mayor que 0”. Es decir, primero se evalúa la condición del if. Si es cierta, se ejecuta su código y se continúa ejecutando el código posterior al condicional; si no se cumple, se evalúa la condición del elif. Si se cumple la condición del elif se ejecuta su código y se continua ejecutando el código posterior al condicional; si no se cumple y hay más de un elif se continúa con el siguiente en orden de aparición. Si no se cumple la condición del if ni de ninguno de los elif, se ejecuta el código del else."
   ]
  },
  {
   "cell_type": "code",
   "execution_count": null,
   "id": "7d69f7ac",
   "metadata": {
    "id": "7d69f7ac",
    "outputId": "75136353-2aa0-40b5-bdbd-8163c4dcd43d"
   },
   "outputs": [],
   "source": [
    "edad = 20\n",
    "\n",
    "if _____ >= 18 ___ _____ < 60:\n",
    "    print(\"Bienvenido al bar de python\")\n",
    "elif _____ > __:\n",
    "    print(\"Estimad@ no le recomiendo este bar, acá solo se pone perreo.\")\n",
    "else:\n",
    "    print(\"Lo lamento, eres menor de edad y no puedes ingresar.\")\n",
    "    \n",
    "print(\"Hasta luego!\")"
   ]
  },
  {
   "cell_type": "markdown",
   "id": "d0413d06",
   "metadata": {
    "id": "d0413d06"
   },
   "source": [
    "Si gasto hasta 100.000, pago con dinero en efectivo. Si no, si gasto más de 100.000 pero menos de 300.000, pago con tarjeta de débito. Si no, pago con tarjeta de crédito."
   ]
  },
  {
   "cell_type": "code",
   "execution_count": null,
   "id": "adaed06e",
   "metadata": {
    "id": "adaed06e",
    "outputId": "3fe72da3-1df8-4e28-c7f5-b389dcc947e8"
   },
   "outputs": [],
   "source": []
  },
  {
   "cell_type": "markdown",
   "id": "c80f129b",
   "metadata": {
    "id": "c80f129b"
   },
   "source": [
    "### Unificación entre operadores lógicos y sentencias condicionales\n",
    "\n",
    "Al realizar la unificación de algunos temas vistos en la sesión, es posible explicar los operadores lógicos utilizando sentencias condicionales y valores booleanos dummy."
   ]
  },
  {
   "cell_type": "code",
   "execution_count": null,
   "id": "76bd0f0c",
   "metadata": {
    "id": "76bd0f0c",
    "outputId": "5c3f02c5-c3fb-4ecf-f2ee-c0fe49c41499"
   },
   "outputs": [],
   "source": [
    "a, b = 1, 0\n",
    "\n",
    "print (\"Valor de variable 'a':\", a)\n",
    "print (\"Valor de variable 'b':\", b)"
   ]
  },
  {
   "cell_type": "code",
   "execution_count": null,
   "id": "b060b487",
   "metadata": {
    "id": "b060b487",
    "outputId": "c94a9db8-db85-4599-b021-9c87605c41e1"
   },
   "outputs": [],
   "source": [
    "print (\"\\nOperador and\")\n",
    "print (\"============\")\n",
    "\n",
    "if (a ___ b):\n",
    "    print(\"Las variables 'a' y 'b' son VERDADERO.\")\n",
    "else:\n",
    "    print(\"O bien la variable 'a' no es VERDADERO \" + \\\n",
    "   \"o la variable 'b' no es VERDADERO.\")"
   ]
  },
  {
   "cell_type": "code",
   "execution_count": null,
   "id": "a9baeb5c",
   "metadata": {
    "id": "a9baeb5c",
    "outputId": "22db1aa6-7355-45ff-bb4f-37096796899f"
   },
   "outputs": [],
   "source": [
    "print (\"\\nOperador or\")\n",
    "print (\"===========\")\n",
    "if (a __ b):\n",
    "    print(\"O bien la variable 'a' es VERDADERA \" + \\\n",
    "   \"o la variable 'b' es VERDADERA \" + \\\n",
    "   \"o ambas variables son VERDADERAS.\")\n",
    "else:\n",
    "    print(\"Ni la variable 'a' es VERDADERA ni \" + \\\n",
    "   \"la variable 'b' es VERDADERA.\")"
   ]
  },
  {
   "cell_type": "code",
   "execution_count": null,
   "id": "a017eaeb",
   "metadata": {
    "id": "a017eaeb",
    "outputId": "d1163a48-d492-48e9-bd00-89822d4734a7"
   },
   "outputs": [],
   "source": [
    "print (\"\\nOperador not\")\n",
    "print (\"============\")\n",
    "if ___(a ___ b):\n",
    "    print(\"Ni la variable 'a' NO es VERDADERA \" + \\\n",
    "   \"o la variable 'b' NO es VERDADERA.\")\n",
    "else:\n",
    "    print(\"Las variables 'a' y 'b' son VERDADERAS.\")"
   ]
  }
 ],
 "metadata": {
  "colab": {
   "collapsed_sections": [
    "fe684544",
    "c80f129b"
   ],
   "name": "(4) Operadores Lógicos.ipynb",
   "provenance": []
  },
  "kernelspec": {
   "display_name": "Python 3",
   "language": "python",
   "name": "python3"
  },
  "language_info": {
   "codemirror_mode": {
    "name": "ipython",
    "version": 3
   },
   "file_extension": ".py",
   "mimetype": "text/x-python",
   "name": "python",
   "nbconvert_exporter": "python",
   "pygments_lexer": "ipython3",
   "version": "3.8.5"
  }
 },
 "nbformat": 4,
 "nbformat_minor": 5
}
