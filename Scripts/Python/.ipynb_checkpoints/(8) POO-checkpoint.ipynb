{
 "cells": [
  {
   "cell_type": "code",
   "execution_count": 1,
   "metadata": {
    "id": "4Rw1rOUXWZP8"
   },
   "outputs": [],
   "source": [
    "# Creando una clase vacía\n",
    "class Perro:\n",
    "    pass"
   ]
  },
  {
   "cell_type": "code",
   "execution_count": 2,
   "metadata": {
    "id": "grEWzb1pWZQG"
   },
   "outputs": [],
   "source": [
    "mi_perro = Perro()"
   ]
  },
  {
   "cell_type": "markdown",
   "metadata": {
    "id": "Dq_oc5R_WZQJ"
   },
   "source": [
    "Atributos de instancia para nuestro perro: el nombre y la raza. Para ello creamos un método __init__ que será llamado automáticamente cuando creemos un objeto. Se trata del constructor."
   ]
  },
  {
   "cell_type": "code",
   "execution_count": 3,
   "metadata": {
    "id": "fJswlMP8WZQO"
   },
   "outputs": [],
   "source": [
    "class Perro:\n",
    "    def __init__(self, nombre, raza):\n",
    "        print(f\"Creando perro {nombre}, {raza}\")\n",
    "        # \"creando perro {}\".format(nombre)\n",
    "        # f\"creando perro {nombre}\"\n",
    "\n",
    "        # Atributos de instancia\n",
    "        self.nombre = nombre\n",
    "        self.raza = raza"
   ]
  },
  {
   "cell_type": "code",
   "execution_count": 4,
   "metadata": {},
   "outputs": [
    {
     "name": "stdout",
     "output_type": "stream",
     "text": [
      "Creando perro Toby, Bulldog\n"
     ]
    },
    {
     "data": {
      "text/plain": [
       "<__main__.Perro at 0x20c57865be0>"
      ]
     },
     "execution_count": 4,
     "metadata": {},
     "output_type": "execute_result"
    }
   ],
   "source": [
    "mi_perro = Perro(\"Toby\",\"Bulldog\")\n",
    "mi_perro"
   ]
  },
  {
   "cell_type": "code",
   "execution_count": 5,
   "metadata": {},
   "outputs": [
    {
     "data": {
      "text/plain": [
       "__main__.Perro"
      ]
     },
     "execution_count": 5,
     "metadata": {},
     "output_type": "execute_result"
    }
   ],
   "source": [
    "type(mi_perro)"
   ]
  },
  {
   "cell_type": "code",
   "execution_count": 6,
   "metadata": {},
   "outputs": [
    {
     "data": {
      "text/plain": [
       "'Toby'"
      ]
     },
     "execution_count": 6,
     "metadata": {},
     "output_type": "execute_result"
    }
   ],
   "source": [
    "mi_perro.nombre"
   ]
  },
  {
   "cell_type": "code",
   "execution_count": 7,
   "metadata": {},
   "outputs": [
    {
     "data": {
      "text/plain": [
       "'Bulldog'"
      ]
     },
     "execution_count": 7,
     "metadata": {},
     "output_type": "execute_result"
    }
   ],
   "source": [
    "mi_perro.raza"
   ]
  },
  {
   "cell_type": "markdown",
   "metadata": {
    "id": "avrRej6gWZQb"
   },
   "source": [
    "Hasta ahora hemos definido atributos de instancia, ya que son atributos que pertenecen a cada perro concreto. Ahora vamos a definir un atributo de clase, que será común para todos los perros. Por ejemplo, la especie de los perros es algo común para todos los objetos Perro."
   ]
  },
  {
   "cell_type": "code",
   "execution_count": 8,
   "metadata": {
    "id": "yXFl0imXWZQd"
   },
   "outputs": [],
   "source": [
    "class Perro:\n",
    "    # Atributos de clase\n",
    "    especie = \"mamifero\"\n",
    "\n",
    "    def __init__(self, nombre, raza):\n",
    "        print(f\"Creando perro {nombre}, {raza}\")\n",
    "\n",
    "        # Atributos de instancia\n",
    "        self.nombre = nombre\n",
    "        self.raza = raza"
   ]
  },
  {
   "cell_type": "code",
   "execution_count": 9,
   "metadata": {},
   "outputs": [
    {
     "name": "stdout",
     "output_type": "stream",
     "text": [
      "Creando perro Toby, Bulldog\n"
     ]
    },
    {
     "data": {
      "text/plain": [
       "<__main__.Perro at 0x20c57f29cd0>"
      ]
     },
     "execution_count": 9,
     "metadata": {},
     "output_type": "execute_result"
    }
   ],
   "source": [
    "mi_perro = Perro(\"Toby\",\"Bulldog\")\n",
    "mi_perro"
   ]
  },
  {
   "cell_type": "code",
   "execution_count": 13,
   "metadata": {},
   "outputs": [
    {
     "name": "stdout",
     "output_type": "stream",
     "text": [
      "Creando perro Luna, Bóxer\n"
     ]
    },
    {
     "data": {
      "text/plain": [
       "<__main__.Perro at 0x20c57b24970>"
      ]
     },
     "execution_count": 13,
     "metadata": {},
     "output_type": "execute_result"
    }
   ],
   "source": [
    "mi_perro_2 = Perro(\"Luna\",\"Bóxer\")\n",
    "mi_perro_2"
   ]
  },
  {
   "cell_type": "code",
   "execution_count": 14,
   "metadata": {},
   "outputs": [
    {
     "data": {
      "text/plain": [
       "'mamifero'"
      ]
     },
     "execution_count": 14,
     "metadata": {},
     "output_type": "execute_result"
    }
   ],
   "source": [
    "mi_perro_2.especie"
   ]
  },
  {
   "cell_type": "code",
   "execution_count": 15,
   "metadata": {},
   "outputs": [
    {
     "data": {
      "text/plain": [
       "'Luna'"
      ]
     },
     "execution_count": 15,
     "metadata": {},
     "output_type": "execute_result"
    }
   ],
   "source": [
    "mi_perro_2.nombre"
   ]
  },
  {
   "cell_type": "markdown",
   "metadata": {
    "id": "y3ZVRvWaWZQl"
   },
   "source": [
    "### Métodos\n",
    "\n",
    "En realidad cuando usamos __init__ anteriormente ya estábamos definiendo un método, solo que uno especial. A continuación vamos a ver como definir métodos que le den alguna funcionalidad interesante a nuestra clase, siguiendo con el ejemplo de perro.\n",
    "\n",
    "Vamos a codificar dos métodos, ladrar y caminar. El primero no recibirá ningún parámetro y el segundo recibirá el número de pasos que queremos andar. Como hemos indicado anteriormente self hace referencia a la instancia de la clase. Se puede definir un método con def y el nombre, y entre () los parámetros de entrada que recibe, donde siempre tendrá que estar self el primero."
   ]
  },
  {
   "cell_type": "code",
   "execution_count": 16,
   "metadata": {
    "id": "30GNDOCLWZQn"
   },
   "outputs": [],
   "source": [
    "class Perro:\n",
    "    # Atributos de clase\n",
    "    especie = \"Mamífero\"\n",
    "\n",
    "    def __init__(self, nombre, raza):\n",
    "        print(f\"Creando perro {nombre}, {raza}\")\n",
    "\n",
    "        # Atributos de instancia\n",
    "        self.nombre = nombre\n",
    "        self.raza = raza\n",
    "\n",
    "    def ladrar(self):\n",
    "        print(\"Guau\")\n",
    "\n",
    "    def caminar(self, pasos):\n",
    "        print(f\"Caminando {pasos} pasos\")"
   ]
  },
  {
   "cell_type": "code",
   "execution_count": 17,
   "metadata": {},
   "outputs": [
    {
     "name": "stdout",
     "output_type": "stream",
     "text": [
      "Creando perro Firulis, Labrador retriever\n"
     ]
    }
   ],
   "source": [
    "mi_perro = Perro(\"Firulis\",\"Labrador retriever\")\n"
   ]
  },
  {
   "cell_type": "code",
   "execution_count": 18,
   "metadata": {},
   "outputs": [
    {
     "data": {
      "text/plain": [
       "'Mamífero'"
      ]
     },
     "execution_count": 18,
     "metadata": {},
     "output_type": "execute_result"
    }
   ],
   "source": [
    "mi_perro.especie"
   ]
  },
  {
   "cell_type": "code",
   "execution_count": 20,
   "metadata": {},
   "outputs": [
    {
     "name": "stdout",
     "output_type": "stream",
     "text": [
      "Caminando 10 pasos\n"
     ]
    }
   ],
   "source": [
    "mi_perro.caminar(10)"
   ]
  },
  {
   "cell_type": "code",
   "execution_count": 21,
   "metadata": {},
   "outputs": [
    {
     "name": "stdout",
     "output_type": "stream",
     "text": [
      "Guau\n"
     ]
    }
   ],
   "source": [
    "mi_perro.ladrar()"
   ]
  },
  {
   "cell_type": "markdown",
   "metadata": {
    "id": "YVjXyThyWZQp"
   },
   "source": [
    "### Ejercicio\n",
    "\n",
    "Cree una clase que represente a una persona. La clase debe tener diferentes atributos (utilizar como referencia la diapositiva 6), y unos métodos que usted considere adecuados y reales.  "
   ]
  },
  {
   "cell_type": "code",
   "execution_count": null,
   "metadata": {},
   "outputs": [],
   "source": []
  },
  {
   "cell_type": "markdown",
   "metadata": {
    "id": "XwDigJZzWZQ0"
   },
   "source": [
    "### Métodos especiales"
   ]
  },
  {
   "cell_type": "code",
   "execution_count": 22,
   "metadata": {},
   "outputs": [],
   "source": [
    "class Personas:\n",
    "    \"\"\" Clase que representa a una persona\"\"\"\n",
    "    \n",
    "    # Atributo Clase\n",
    "    especio = \"mamífero\"\n",
    "    \n",
    "    def __init__(self, nombre, apellido, cedula, sexo):\n",
    "        print(f\"Creando una persona con nombre {nombre} {apellido}, identificado con c.c. {cedula} y sexo {sexo}\")\n",
    "        \n",
    "        self.nombre = nombre\n",
    "        self.apellido = apellido\n",
    "        self.cedula = cedula\n",
    "        self.sexo = sexo \n",
    "        \n",
    "    def __str__(self):\n",
    "        cadena = f\"Nombre {self.nombre}, Apellido {self.apellido}\"\n",
    "        return cadena"
   ]
  },
  {
   "cell_type": "code",
   "execution_count": 23,
   "metadata": {},
   "outputs": [
    {
     "name": "stdout",
     "output_type": "stream",
     "text": [
      "Creando una persona con nombre Juan Acevedo, identificado con c.c. 10091919191 y sexo M\n"
     ]
    }
   ],
   "source": [
    "mi_persona = Personas(\"Juan\",\"Acevedo\",\"10091919191\",\"M\")"
   ]
  },
  {
   "cell_type": "code",
   "execution_count": 24,
   "metadata": {},
   "outputs": [
    {
     "data": {
      "text/plain": [
       "'Juan'"
      ]
     },
     "execution_count": 24,
     "metadata": {},
     "output_type": "execute_result"
    }
   ],
   "source": [
    "mi_persona.nombre"
   ]
  },
  {
   "cell_type": "code",
   "execution_count": 25,
   "metadata": {},
   "outputs": [
    {
     "data": {
      "text/plain": [
       "'Acevedo'"
      ]
     },
     "execution_count": 25,
     "metadata": {},
     "output_type": "execute_result"
    }
   ],
   "source": [
    "mi_persona.apellido"
   ]
  },
  {
   "cell_type": "code",
   "execution_count": 26,
   "metadata": {},
   "outputs": [
    {
     "data": {
      "text/plain": [
       "'Nombre Juan, Apellido Acevedo'"
      ]
     },
     "execution_count": 26,
     "metadata": {},
     "output_type": "execute_result"
    }
   ],
   "source": [
    "str(mi_persona)"
   ]
  },
  {
   "cell_type": "code",
   "execution_count": 30,
   "metadata": {},
   "outputs": [],
   "source": [
    "class Personas:\n",
    "    \"\"\" Clase que representa a una persona\"\"\"\n",
    "    \n",
    "    # Atributo Clase\n",
    "    especio = \"mamífero\"\n",
    "    \n",
    "    def __init__(self, nombre, apellido, cedula, sexo):\n",
    "        print(f\"Creando una persona con nombre {nombre} {apellido}, identificado con c.c. {cedula} y sexo {sexo}\")\n",
    "        \n",
    "        self.nombre = nombre\n",
    "        self.apellido = apellido\n",
    "        self.cedula = cedula\n",
    "        self.sexo = sexo \n",
    "        \n",
    "    def __str__(self):\n",
    "        cadena = f\"Nombre {self.nombre}, Apellido {self.apellido}\"\n",
    "        return cadena\n",
    "    \n",
    "    def __del__(self):\n",
    "        print(\"El objeto %s fue eliminado\"%self.nombre)"
   ]
  },
  {
   "cell_type": "code",
   "execution_count": 44,
   "metadata": {},
   "outputs": [
    {
     "name": "stdout",
     "output_type": "stream",
     "text": [
      "Por favor ingrese su primer nombre y apellido: J A\n",
      "Ingrese su C.C. 1010\n",
      "Ingrese su M o F: M\n"
     ]
    }
   ],
   "source": [
    "nombre = input(\"Por favor ingrese su primer nombre y apellido: \")\n",
    "nombre = nombre.split(\" \")\n",
    "cedula = input(\"Ingrese su C.C. \")\n",
    "sexo = input(\"Ingrese su M o F: \")"
   ]
  },
  {
   "cell_type": "code",
   "execution_count": 45,
   "metadata": {},
   "outputs": [
    {
     "data": {
      "text/plain": [
       "['J', 'A']"
      ]
     },
     "execution_count": 45,
     "metadata": {},
     "output_type": "execute_result"
    }
   ],
   "source": [
    "nombre"
   ]
  },
  {
   "cell_type": "code",
   "execution_count": 49,
   "metadata": {},
   "outputs": [
    {
     "name": "stdout",
     "output_type": "stream",
     "text": [
      "Creando una persona con nombre J A, identificado con c.c. 1010 y sexo M\n"
     ]
    }
   ],
   "source": [
    "mi_persona_a = Personas(nombre[0],nombre[-1],cedula,sexo)"
   ]
  }
 ],
 "metadata": {
  "colab": {
   "name": "(9) POO.ipynb",
   "provenance": []
  },
  "kernelspec": {
   "display_name": "Python 3",
   "language": "python",
   "name": "python3"
  },
  "language_info": {
   "codemirror_mode": {
    "name": "ipython",
    "version": 3
   },
   "file_extension": ".py",
   "mimetype": "text/x-python",
   "name": "python",
   "nbconvert_exporter": "python",
   "pygments_lexer": "ipython3",
   "version": "3.8.5"
  }
 },
 "nbformat": 4,
 "nbformat_minor": 1
}
