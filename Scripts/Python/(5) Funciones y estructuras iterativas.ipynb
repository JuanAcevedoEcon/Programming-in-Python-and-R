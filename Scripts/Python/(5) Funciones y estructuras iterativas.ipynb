{
 "cells": [
  {
   "cell_type": "markdown",
   "id": "83f5273c",
   "metadata": {},
   "source": [
    "## Estructuras iterativas"
   ]
  },
  {
   "cell_type": "markdown",
   "id": "e359d59b",
   "metadata": {},
   "source": [
    "### While\n",
    "\n",
    "El uso del while nos permite ejecutar una sección de código repetidas veces, de ahí su nombre. El código se ejecutará mientras una condición determinada se cumpla. Cuando se deje de cumplir, se saldrá del bucle y se continuará la ejecución normal. Llamaremos iteración a una ejecución completa del bloque de código."
   ]
  },
  {
   "cell_type": "markdown",
   "id": "47fda845",
   "metadata": {},
   "source": [
    "<div style=\"color:red\"> No ejecutes esto ... en serio"
   ]
  },
  {
   "cell_type": "code",
   "execution_count": 2,
   "id": "de2df2ba",
   "metadata": {},
   "outputs": [],
   "source": [
    "# while True:\n",
    "#     print(\"Bucle infinito\")"
   ]
  },
  {
   "cell_type": "code",
   "execution_count": 5,
   "id": "80158990",
   "metadata": {},
   "outputs": [
    {
     "name": "stdout",
     "output_type": "stream",
     "text": [
      "9\n",
      "8\n",
      "7\n",
      "6\n",
      "5\n",
      "4\n",
      "3\n",
      "2\n"
     ]
    }
   ],
   "source": [
    "x = 10\n",
    "while x > 2:\n",
    "    x -= 1\n",
    "    print(x)"
   ]
  },
  {
   "cell_type": "code",
   "execution_count": 4,
   "id": "d4cf3011",
   "metadata": {},
   "outputs": [
    {
     "name": "stdout",
     "output_type": "stream",
     "text": [
      "4\n",
      "3\n",
      "2\n",
      "1\n",
      "0\n"
     ]
    }
   ],
   "source": [
    "x = 5\n",
    "while x > 0: x -=1; print(x)"
   ]
  },
  {
   "cell_type": "code",
   "execution_count": 6,
   "id": "d7ad84cf",
   "metadata": {},
   "outputs": [
    {
     "name": "stdout",
     "output_type": "stream",
     "text": [
      "Papá Noel existe :D si tienes 0 años.\n",
      "Papá Noel existe :D si tienes 1 años.\n",
      "Papá Noel existe :D si tienes 2 años.\n",
      "Papá Noel existe :D si tienes 3 años.\n",
      "Papá Noel existe :D si tienes 4 años.\n",
      "Papá Noel existe :D si tienes 5 años.\n",
      "Papá Noel existe :D si tienes 6 años.\n",
      "Papá Noel existe :D si tienes 7 años.\n",
      "Papá Noel existe :D si tienes 8 años.\n",
      "Papá Noel existe :D si tienes 9 años.\n",
      "Papá Noel existe :D si tienes 10 años.\n",
      "Papá Noel existe :D si tienes 11 años.\n",
      "Papá Noel existe :D si tienes 12 años.\n",
      "Papá Noel existe :D si tienes 13 años.\n",
      "Papá Noel existe :D si tienes 14 años.\n"
     ]
    }
   ],
   "source": [
    "edad = 0\n",
    "\n",
    "while edad < 15:\n",
    "    print(\"Papá Noel existe :D si tienes {} años.\".format(edad))\n",
    "    edad += 1"
   ]
  },
  {
   "cell_type": "code",
   "execution_count": 7,
   "id": "c1c02a61",
   "metadata": {},
   "outputs": [
    {
     "name": "stdout",
     "output_type": "stream",
     "text": [
      "['Dos', 'Tres']\n",
      "['Tres']\n",
      "[]\n"
     ]
    }
   ],
   "source": [
    "x = [\"Uno\", \"Dos\", \"Tres\"]\n",
    "while x:\n",
    "    x.pop(0)\n",
    "    print(x)"
   ]
  },
  {
   "cell_type": "markdown",
   "id": "ccf70ce6",
   "metadata": {},
   "source": [
    "Algo no muy corriente en otros lenguajes de programación pero si en Python, es el uso de la cláusula else al final del while. Podemos ver el ejemplo anterior mezclado con el else. "
   ]
  },
  {
   "cell_type": "code",
   "execution_count": 9,
   "id": "c15289a6",
   "metadata": {
    "scrolled": true
   },
   "outputs": [
    {
     "name": "stdout",
     "output_type": "stream",
     "text": [
      "Papá Noel existe :D si tienes 0 años.\n",
      "Papá Noel existe :D si tienes 1 años.\n",
      "Papá Noel existe :D si tienes 2 años.\n",
      "Papá Noel existe :D si tienes 3 años.\n",
      "Papá Noel existe :D si tienes 4 años.\n",
      "Papá Noel existe :D si tienes 5 años.\n",
      "Papá Noel existe :D si tienes 6 años.\n",
      "Papá Noel existe :D si tienes 7 años.\n",
      "Papá Noel existe :D si tienes 8 años.\n",
      "Papá Noel existe :D si tienes 9 años.\n",
      "Papá Noel existe :D si tienes 10 años.\n",
      "Papá Noel existe :D si tienes 11 años.\n",
      "Papá Noel existe :D si tienes 12 años.\n",
      "Papá Noel existe :D si tienes 13 años.\n",
      "Papá Noel existe :D si tienes 14 años.\n",
      "Lo lamento, Papá Noel no existe\n"
     ]
    }
   ],
   "source": [
    "edad = 0\n",
    "\n",
    "while edad < 15:\n",
    "    print(\"Papá Noel existe :D si tienes {} años.\".format(edad))\n",
    "    edad += 1\n",
    "else:\n",
    "    print(\"Lo lamento, Papá Noel no existe\")"
   ]
  },
  {
   "cell_type": "markdown",
   "id": "f6f8cc66",
   "metadata": {},
   "source": [
    "break"
   ]
  },
  {
   "cell_type": "code",
   "execution_count": 10,
   "id": "6933374e",
   "metadata": {},
   "outputs": [
    {
     "name": "stdout",
     "output_type": "stream",
     "text": [
      "4\n",
      "3\n",
      "2\n",
      "1\n",
      "0\n"
     ]
    }
   ],
   "source": [
    "x = 5\n",
    "while x > 0:\n",
    "    x -= 1\n",
    "    print(x)\n",
    "    if x == 0:\n",
    "        break\n",
    "else:\n",
    "    print(\"El bucle ha finalizado\")"
   ]
  },
  {
   "cell_type": "markdown",
   "id": "3979b63c",
   "metadata": {},
   "source": [
    "Bucles anidados: podemos complicar un poco mas las cosas y meter otro bucle while dentro del primero."
   ]
  },
  {
   "cell_type": "code",
   "execution_count": 11,
   "id": "585e3fc2",
   "metadata": {
    "scrolled": true
   },
   "outputs": [
    {
     "name": "stdout",
     "output_type": "stream",
     "text": [
      "0 0\n",
      "0 1\n",
      "0 2\n",
      "1 0\n",
      "1 1\n",
      "1 2\n",
      "2 0\n",
      "2 1\n",
      "2 2\n"
     ]
    }
   ],
   "source": [
    "i = 0\n",
    "j = 0\n",
    "while i < 3:\n",
    "    while j < 3:\n",
    "        print(i,j)\n",
    "        j += 1\n",
    "    i += 1\n",
    "    j = 0"
   ]
  },
  {
   "cell_type": "code",
   "execution_count": 15,
   "id": "4b807047",
   "metadata": {},
   "outputs": [
    {
     "data": {
      "text/plain": [
       "'*******'"
      ]
     },
     "execution_count": 15,
     "metadata": {},
     "output_type": "execute_result"
    }
   ],
   "source": [
    "\"*\"* 7"
   ]
  },
  {
   "cell_type": "code",
   "execution_count": 16,
   "id": "e93da4b6",
   "metadata": {},
   "outputs": [
    {
     "name": "stdout",
     "output_type": "stream",
     "text": [
      "       *       \n",
      "      ***      \n",
      "     *****     \n",
      "    *******    \n",
      "   *********   \n",
      "  ***********  \n",
      " ************* \n"
     ]
    }
   ],
   "source": [
    "# Ejemplo de arbol de navidad\n",
    "z = 7\n",
    "x = 1\n",
    "while z > 0:\n",
    "    print(' ' * z + '*' * x + ' ' * z)\n",
    "    x += 2\n",
    "    z -= 1"
   ]
  },
  {
   "cell_type": "code",
   "execution_count": 21,
   "id": "de565ece",
   "metadata": {},
   "outputs": [
    {
     "name": "stdout",
     "output_type": "stream",
     "text": [
      "P\n",
      "Py\n",
      "Pyt\n",
      "Pyth\n",
      "Pytho\n",
      "Python\n"
     ]
    }
   ],
   "source": [
    "text = \"Python\"\n",
    "i = 0\n",
    "while i < len(text):\n",
    "    print(text[:i + 1])\n",
    "    i += 1"
   ]
  },
  {
   "cell_type": "markdown",
   "id": "053ceabc",
   "metadata": {},
   "source": [
    "Pequeño programa que repite todo lo que el usuario diga hasta que escriba adios."
   ]
  },
  {
   "cell_type": "code",
   "execution_count": 25,
   "id": "37d9f0af",
   "metadata": {},
   "outputs": [
    {
     "name": "stdout",
     "output_type": "stream",
     "text": [
      "> Hola\n",
      "hola\n",
      "> Adios\n"
     ]
    }
   ],
   "source": [
    "while True:\n",
    "    dialogo = input(\"> \")\n",
    "    dialogo = dialogo.lower()\n",
    "    if dialogo == \"adios\":\n",
    "        break\n",
    "    else:\n",
    "        print(dialogo)"
   ]
  },
  {
   "cell_type": "markdown",
   "id": "7b179c35",
   "metadata": {},
   "source": [
    "### For\n"
   ]
  },
  {
   "cell_type": "code",
   "execution_count": 26,
   "id": "5a49f77e",
   "metadata": {},
   "outputs": [
    {
     "name": "stdout",
     "output_type": "stream",
     "text": [
      "uno\n",
      "dos\n",
      "tres\n"
     ]
    }
   ],
   "source": [
    "secuencia = [\"uno\", \"dos\", \"tres\"]\n",
    "for numero in secuencia:\n",
    "    print(numero)"
   ]
  },
  {
   "cell_type": "code",
   "execution_count": 43,
   "id": "3618ac07",
   "metadata": {},
   "outputs": [
    {
     "name": "stdout",
     "output_type": "stream",
     "text": [
      "[13, 16, 30, 19]\n"
     ]
    }
   ],
   "source": [
    "i = 0\n",
    "edades = [12,15,29,18]\n",
    "\n",
    "for edad in edades:\n",
    "    edad += 1\n",
    "    edades[i] = edad\n",
    "    i += 1\n",
    "\n",
    "print(edades)"
   ]
  },
  {
   "cell_type": "markdown",
   "id": "7ba6aee0",
   "metadata": {},
   "source": [
    "**Range:** Uno de las iteraciones mas comunes que se realizan, es la de iterar un número entre por ejemplo 0 y n."
   ]
  },
  {
   "cell_type": "code",
   "execution_count": null,
   "id": "6b998b5b",
   "metadata": {},
   "outputs": [],
   "source": [
    "print(____(____(_, __, _)))"
   ]
  },
  {
   "cell_type": "code",
   "execution_count": null,
   "id": "7d049667",
   "metadata": {},
   "outputs": [],
   "source": [
    "# Esto \n",
    "for i in (0, 1, 2, 3, 4, 5):\n",
    "    print(i)"
   ]
  },
  {
   "cell_type": "code",
   "execution_count": null,
   "id": "4374c88d",
   "metadata": {},
   "outputs": [],
   "source": [
    "# Es igual a esto\n",
    "for i in ____(0, _):\n",
    "    print(_)"
   ]
  },
  {
   "cell_type": "markdown",
   "id": "ee09f0ad",
   "metadata": {},
   "source": [
    "### Funciones\n",
    "\n",
    "Cualquier función tendrá un nombre, unos argumentos de entrada, un código a ejecutar y unos parámetros de salida."
   ]
  },
  {
   "cell_type": "code",
   "execution_count": null,
   "id": "4fed75ed",
   "metadata": {},
   "outputs": [],
   "source": [
    "___ f(x):\n",
    "    ____ _*_\n",
    "\n",
    "_(_)"
   ]
  },
  {
   "cell_type": "code",
   "execution_count": null,
   "id": "697b47c1",
   "metadata": {},
   "outputs": [],
   "source": [
    "def di_hola(______):\n",
    "    print(\"Hola\", ______)\n",
    "    \n",
    "di_hola(______)"
   ]
  },
  {
   "cell_type": "markdown",
   "id": "7ccfa600",
   "metadata": {},
   "source": [
    "Tal vez queramos tener una función con algún parámetro opcional, que pueda ser usado o no dependiendo de diferentes circunstancias."
   ]
  },
  {
   "cell_type": "code",
   "execution_count": null,
   "id": "b392549a",
   "metadata": {},
   "outputs": [],
   "source": [
    "def ______(a, b, ______):\n",
    "    return a+b+_\n",
    "\n",
    "suma(_,_,_)"
   ]
  },
  {
   "cell_type": "code",
   "execution_count": null,
   "id": "81d236c8",
   "metadata": {},
   "outputs": [],
   "source": [
    "suma(_,_)"
   ]
  },
  {
   "cell_type": "markdown",
   "id": "40c9099b",
   "metadata": {},
   "source": [
    "Es importante documentar las funciones"
   ]
  },
  {
   "cell_type": "code",
   "execution_count": null,
   "id": "66dcc1c2",
   "metadata": {},
   "outputs": [],
   "source": [
    "def mi_funcion_suma(_, _):\n",
    "    ____\n",
    "    Descripción de la función. Como debe ser usada,\n",
    "    que parámetros acepta y que devuelve\n",
    "    ____\n",
    "    return ____"
   ]
  },
  {
   "cell_type": "markdown",
   "id": "eb8ee421",
   "metadata": {},
   "source": [
    "### Funciones lambda\n",
    "\n",
    "“Python lambdas are only a shorthand notation if you’re too lazy to define a function.”"
   ]
  },
  {
   "cell_type": "code",
   "execution_count": null,
   "id": "f3c4b991",
   "metadata": {},
   "outputs": [],
   "source": [
    "# Esto\n",
    "def suma(a, b):\n",
    "    return a+b"
   ]
  },
  {
   "cell_type": "code",
   "execution_count": null,
   "id": "1bb4b168",
   "metadata": {},
   "outputs": [],
   "source": [
    "# Es igual a esto\n",
    "lambda _, _ : _ + _"
   ]
  },
  {
   "cell_type": "markdown",
   "id": "85424aed",
   "metadata": {},
   "source": [
    "La primera diferencia es que una función lambda no tiene un nombre, y por lo tanto salvo que sea asignada a una variable, es totalmente inútil. Para ello debemos."
   ]
  },
  {
   "cell_type": "code",
   "execution_count": null,
   "id": "84c1f05a",
   "metadata": {},
   "outputs": [],
   "source": [
    "suma = lambda _, _ : _ + _"
   ]
  },
  {
   "cell_type": "markdown",
   "id": "43375ae4",
   "metadata": {},
   "source": [
    "Si es una función que solo queremos usar una vez, tal vez no tenga sentido almacenarla en una variable. Es posible declarar la función y llamarla en la misma línea."
   ]
  },
  {
   "cell_type": "code",
   "execution_count": null,
   "id": "c5e6636f",
   "metadata": {},
   "outputs": [],
   "source": [
    "(lambda _, _ : _ + _)(_, _)"
   ]
  }
 ],
 "metadata": {
  "kernelspec": {
   "display_name": "Python 3 (ipykernel)",
   "language": "python",
   "name": "python3"
  },
  "language_info": {
   "codemirror_mode": {
    "name": "ipython",
    "version": 3
   },
   "file_extension": ".py",
   "mimetype": "text/x-python",
   "name": "python",
   "nbconvert_exporter": "python",
   "pygments_lexer": "ipython3",
   "version": "3.9.12"
  }
 },
 "nbformat": 4,
 "nbformat_minor": 5
}
