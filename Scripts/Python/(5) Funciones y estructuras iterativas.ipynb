{
 "cells": [
  {
   "cell_type": "markdown",
   "id": "83f5273c",
   "metadata": {},
   "source": [
    "## Estructuras iterativas"
   ]
  },
  {
   "cell_type": "markdown",
   "id": "e359d59b",
   "metadata": {},
   "source": [
    "### While\n",
    "\n",
    "El uso del while nos permite ejecutar una sección de código repetidas veces, de ahí su nombre. El código se ejecutará mientras una condición determinada se cumpla. Cuando se deje de cumplir, se saldrá del bucle y se continuará la ejecución normal. Llamaremos iteración a una ejecución completa del bloque de código."
   ]
  },
  {
   "cell_type": "markdown",
   "id": "47fda845",
   "metadata": {},
   "source": [
    "<div style=\"color:red\"> No ejecutes esto ... en serio"
   ]
  },
  {
   "cell_type": "code",
   "execution_count": null,
   "id": "de2df2ba",
   "metadata": {},
   "outputs": [],
   "source": [
    "# while True:\n",
    "   # print(\"Bucle infinito\")"
   ]
  },
  {
   "cell_type": "code",
   "execution_count": null,
   "id": "80158990",
   "metadata": {},
   "outputs": [],
   "source": [
    "x = 5\n",
    "while _ > _:\n",
    "    x __ 1\n",
    "    print(_)"
   ]
  },
  {
   "cell_type": "code",
   "execution_count": null,
   "id": "d4cf3011",
   "metadata": {},
   "outputs": [],
   "source": []
  },
  {
   "cell_type": "code",
   "execution_count": null,
   "id": "c1c02a61",
   "metadata": {},
   "outputs": [],
   "source": [
    "x = [\"Uno\", \"Dos\", \"Tres\"]\n",
    "while _:\n",
    "    x.___(_)\n",
    "    print(_)"
   ]
  },
  {
   "cell_type": "markdown",
   "id": "ccf70ce6",
   "metadata": {},
   "source": [
    "Algo no muy corriente en otros lenguajes de programación pero si en Python, es el uso de la cláusula else al final del while. Podemos ver el ejemplo anterior mezclado con el else. "
   ]
  },
  {
   "cell_type": "code",
   "execution_count": null,
   "id": "c15289a6",
   "metadata": {
    "scrolled": true
   },
   "outputs": [],
   "source": [
    "______\n",
    "while _ > _:\n",
    "    x __ 1\n",
    "    print(_) \n",
    "else:\n",
    "    print(\"El bucle ha finalizado\")"
   ]
  },
  {
   "cell_type": "markdown",
   "id": "f6f8cc66",
   "metadata": {},
   "source": [
    "break"
   ]
  },
  {
   "cell_type": "code",
   "execution_count": null,
   "id": "6933374e",
   "metadata": {},
   "outputs": [],
   "source": [
    "______\n",
    "while _ > _:\n",
    "    x __ 1\n",
    "    print(_)\n",
    "    if x == 0:\n",
    "        _____\n",
    "else:\n",
    "    print(\"El bucle ha finalizado\")"
   ]
  },
  {
   "cell_type": "markdown",
   "id": "3979b63c",
   "metadata": {},
   "source": [
    "Bucles anidados: podemos complicar un poco mas las cosas y meter otro bucle while dentro del primero."
   ]
  },
  {
   "cell_type": "code",
   "execution_count": null,
   "id": "585e3fc2",
   "metadata": {},
   "outputs": [],
   "source": [
    "i = 0\n",
    "j = 0\n",
    "while i < _:\n",
    "    while j < _:\n",
    "        print(_,_)\n",
    "        j += _\n",
    "    i += _\n",
    "    j = _"
   ]
  },
  {
   "cell_type": "code",
   "execution_count": null,
   "id": "e93da4b6",
   "metadata": {},
   "outputs": [],
   "source": [
    "# Ejemplo de arbol de navidad\n",
    "z = 7\n",
    "x = 1\n",
    "while z > 0:\n",
    "    print(' ' * _ + '*' * _ + ' ' * _)\n",
    "    x += _\n",
    "    z -= _"
   ]
  },
  {
   "cell_type": "code",
   "execution_count": null,
   "id": "de565ece",
   "metadata": {},
   "outputs": [],
   "source": [
    "text = \"Python\"\n",
    "i = 0\n",
    "while _ < len(___):\n",
    "    print(text[:_ + _])\n",
    "    i += _"
   ]
  },
  {
   "cell_type": "markdown",
   "id": "053ceabc",
   "metadata": {},
   "source": [
    "Pequeño programa que repite todo lo que el usuario diga hasta que escriba adios."
   ]
  },
  {
   "cell_type": "code",
   "execution_count": null,
   "id": "37d9f0af",
   "metadata": {},
   "outputs": [],
   "source": []
  },
  {
   "cell_type": "markdown",
   "id": "7b179c35",
   "metadata": {},
   "source": [
    "### For\n"
   ]
  },
  {
   "cell_type": "code",
   "execution_count": null,
   "id": "5a49f77e",
   "metadata": {},
   "outputs": [],
   "source": [
    "secuencia = [\"uno\", \"dos\", \"tres\"]\n",
    "for ______ in ________:\n",
    "    print(________)"
   ]
  },
  {
   "cell_type": "markdown",
   "id": "7ba6aee0",
   "metadata": {},
   "source": [
    "**Range:** Uno de las iteraciones mas comunes que se realizan, es la de iterar un número entre por ejemplo 0 y n."
   ]
  },
  {
   "cell_type": "code",
   "execution_count": null,
   "id": "6b998b5b",
   "metadata": {},
   "outputs": [],
   "source": [
    "print(____(____(_, __, _)))"
   ]
  },
  {
   "cell_type": "code",
   "execution_count": null,
   "id": "7d049667",
   "metadata": {},
   "outputs": [],
   "source": [
    "# Esto \n",
    "for i in (0, 1, 2, 3, 4, 5):\n",
    "    print(i)"
   ]
  },
  {
   "cell_type": "code",
   "execution_count": null,
   "id": "4374c88d",
   "metadata": {},
   "outputs": [],
   "source": [
    "# Es igual a esto\n",
    "for i in ____(0, _):\n",
    "    print(_)"
   ]
  },
  {
   "cell_type": "markdown",
   "id": "ee09f0ad",
   "metadata": {},
   "source": [
    "### Funciones\n",
    "\n",
    "Cualquier función tendrá un nombre, unos argumentos de entrada, un código a ejecutar y unos parámetros de salida."
   ]
  },
  {
   "cell_type": "code",
   "execution_count": null,
   "id": "4fed75ed",
   "metadata": {},
   "outputs": [],
   "source": [
    "___ f(x):\n",
    "    ____ _*_\n",
    "\n",
    "_(_)"
   ]
  },
  {
   "cell_type": "code",
   "execution_count": null,
   "id": "697b47c1",
   "metadata": {},
   "outputs": [],
   "source": [
    "def di_hola(______):\n",
    "    print(\"Hola\", ______)\n",
    "    \n",
    "di_hola(______)"
   ]
  },
  {
   "cell_type": "markdown",
   "id": "7ccfa600",
   "metadata": {},
   "source": [
    "Tal vez queramos tener una función con algún parámetro opcional, que pueda ser usado o no dependiendo de diferentes circunstancias."
   ]
  },
  {
   "cell_type": "code",
   "execution_count": null,
   "id": "b392549a",
   "metadata": {},
   "outputs": [],
   "source": [
    "def ______(a, b, ______):\n",
    "    return a+b+_\n",
    "\n",
    "suma(_,_,_)"
   ]
  },
  {
   "cell_type": "code",
   "execution_count": null,
   "id": "81d236c8",
   "metadata": {},
   "outputs": [],
   "source": [
    "suma(_,_)"
   ]
  },
  {
   "cell_type": "markdown",
   "id": "40c9099b",
   "metadata": {},
   "source": [
    "Es importante documentar las funciones"
   ]
  },
  {
   "cell_type": "code",
   "execution_count": null,
   "id": "66dcc1c2",
   "metadata": {},
   "outputs": [],
   "source": [
    "def mi_funcion_suma(_, _):\n",
    "    ____\n",
    "    Descripción de la función. Como debe ser usada,\n",
    "    que parámetros acepta y que devuelve\n",
    "    ____\n",
    "    return ____"
   ]
  },
  {
   "cell_type": "markdown",
   "id": "eb8ee421",
   "metadata": {},
   "source": [
    "### Funciones lambda\n",
    "\n",
    "“Python lambdas are only a shorthand notation if you’re too lazy to define a function.”"
   ]
  },
  {
   "cell_type": "code",
   "execution_count": null,
   "id": "f3c4b991",
   "metadata": {},
   "outputs": [],
   "source": [
    "# Esto\n",
    "def suma(a, b):\n",
    "    return a+b"
   ]
  },
  {
   "cell_type": "code",
   "execution_count": null,
   "id": "1bb4b168",
   "metadata": {},
   "outputs": [],
   "source": [
    "# Es igual a esto\n",
    "lambda _, _ : _ + _"
   ]
  },
  {
   "cell_type": "markdown",
   "id": "85424aed",
   "metadata": {},
   "source": [
    "La primera diferencia es que una función lambda no tiene un nombre, y por lo tanto salvo que sea asignada a una variable, es totalmente inútil. Para ello debemos."
   ]
  },
  {
   "cell_type": "code",
   "execution_count": null,
   "id": "84c1f05a",
   "metadata": {},
   "outputs": [],
   "source": [
    "suma = lambda _, _ : _ + _"
   ]
  },
  {
   "cell_type": "markdown",
   "id": "43375ae4",
   "metadata": {},
   "source": [
    "Si es una función que solo queremos usar una vez, tal vez no tenga sentido almacenarla en una variable. Es posible declarar la función y llamarla en la misma línea."
   ]
  },
  {
   "cell_type": "code",
   "execution_count": null,
   "id": "c5e6636f",
   "metadata": {},
   "outputs": [],
   "source": [
    "(lambda _, _ : _ + _)(_, _)"
   ]
  }
 ],
 "metadata": {
  "kernelspec": {
   "display_name": "Python 3",
   "language": "python",
   "name": "python3"
  },
  "language_info": {
   "codemirror_mode": {
    "name": "ipython",
    "version": 3
   },
   "file_extension": ".py",
   "mimetype": "text/x-python",
   "name": "python",
   "nbconvert_exporter": "python",
   "pygments_lexer": "ipython3",
   "version": "3.8.5"
  }
 },
 "nbformat": 4,
 "nbformat_minor": 5
}
