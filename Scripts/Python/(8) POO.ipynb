{
 "cells": [
  {
   "cell_type": "code",
   "execution_count": null,
   "metadata": {
    "id": "4Rw1rOUXWZP8"
   },
   "outputs": [],
   "source": [
    "# Creando una clase vacía\n",
    "class _____:\n",
    "    _____"
   ]
  },
  {
   "cell_type": "code",
   "execution_count": null,
   "metadata": {
    "id": "grEWzb1pWZQG"
   },
   "outputs": [],
   "source": [
    "mi_perro = ______()"
   ]
  },
  {
   "cell_type": "markdown",
   "metadata": {
    "id": "Dq_oc5R_WZQJ"
   },
   "source": [
    "Atributos de instancia para nuestro perro: el nombre y la raza. Para ello creamos un método __init__ que será llamado automáticamente cuando creemos un objeto. Se trata del constructor."
   ]
  },
  {
   "cell_type": "code",
   "execution_count": null,
   "metadata": {
    "id": "fJswlMP8WZQO"
   },
   "outputs": [],
   "source": [
    "class ______:\n",
    "    def _________(_____, nombre, raza):\n",
    "        print(f\"Creando perro {nombre}, {raza}\")\n",
    "\n",
    "        # Atributos de instancia\n",
    "        ____.nombre = ______\n",
    "        ____.raza = ____"
   ]
  },
  {
   "cell_type": "code",
   "execution_count": null,
   "metadata": {},
   "outputs": [],
   "source": []
  },
  {
   "cell_type": "markdown",
   "metadata": {
    "id": "avrRej6gWZQb"
   },
   "source": [
    "Hasta ahora hemos definido atributos de instancia, ya que son atributos que pertenecen a cada perro concreto. Ahora vamos a definir un atributo de clase, que será común para todos los perros. Por ejemplo, la especie de los perros es algo común para todos los objetos Perro."
   ]
  },
  {
   "cell_type": "code",
   "execution_count": null,
   "metadata": {
    "id": "yXFl0imXWZQd"
   },
   "outputs": [],
   "source": [
    "class Perro:\n",
    "    # Atributos de clase\n",
    "    ______ = \"________\"\n",
    "\n",
    "    def _________(_____, nombre, raza):\n",
    "        print(f\"Creando perro {nombre}, {raza}\")\n",
    "\n",
    "        # Atributos de instancia\n",
    "        ____.nombre = ______\n",
    "        ____.raza = ____"
   ]
  },
  {
   "cell_type": "code",
   "execution_count": null,
   "metadata": {},
   "outputs": [],
   "source": []
  },
  {
   "cell_type": "markdown",
   "metadata": {
    "id": "y3ZVRvWaWZQl"
   },
   "source": [
    "### Métodos\n",
    "\n",
    "En realidad cuando usamos __init__ anteriormente ya estábamos definiendo un método, solo que uno especial. A continuación vamos a ver como definir métodos que le den alguna funcionalidad interesante a nuestra clase, siguiendo con el ejemplo de perro.\n",
    "\n",
    "Vamos a codificar dos métodos, ladrar y caminar. El primero no recibirá ningún parámetro y el segundo recibirá el número de pasos que queremos andar. Como hemos indicado anteriormente self hace referencia a la instancia de la clase. Se puede definir un método con def y el nombre, y entre () los parámetros de entrada que recibe, donde siempre tendrá que estar self el primero."
   ]
  },
  {
   "cell_type": "code",
   "execution_count": null,
   "metadata": {
    "id": "30GNDOCLWZQn"
   },
   "outputs": [],
   "source": [
    "class Perro:\n",
    "    # Atributos de clase\n",
    "    ______ = \"________\"\n",
    "\n",
    "    def _________(_____, nombre, raza):\n",
    "        print(f\"Creando perro {nombre}, {raza}\")\n",
    "\n",
    "        # Atributos de instancia\n",
    "        ____.nombre = ______\n",
    "        ____.raza = ____\n",
    "\n",
    "    def ______(____):\n",
    "        print(\"Guau\")\n",
    "\n",
    "    def ______(____, ______):\n",
    "        print(f\"Caminando {______} pasos\")"
   ]
  },
  {
   "cell_type": "code",
   "execution_count": null,
   "metadata": {},
   "outputs": [],
   "source": []
  },
  {
   "cell_type": "markdown",
   "metadata": {
    "id": "YVjXyThyWZQp"
   },
   "source": [
    "### Ejercicio\n",
    "\n",
    "Cree una clase que represente a una persona. La clase debe tener diferentes atributos (utilizar como referencia la diapositiva 6), y unos métodos que usted considere adecuados y reales.  "
   ]
  },
  {
   "cell_type": "code",
   "execution_count": null,
   "metadata": {},
   "outputs": [],
   "source": []
  },
  {
   "cell_type": "markdown",
   "metadata": {
    "id": "XwDigJZzWZQ0"
   },
   "source": [
    "### Métodos especiales"
   ]
  },
  {
   "cell_type": "code",
   "execution_count": null,
   "metadata": {},
   "outputs": [],
   "source": []
  }
 ],
 "metadata": {
  "colab": {
   "name": "(9) POO.ipynb",
   "provenance": []
  },
  "kernelspec": {
   "display_name": "Python 3",
   "language": "python",
   "name": "python3"
  },
  "language_info": {
   "codemirror_mode": {
    "name": "ipython",
    "version": 3
   },
   "file_extension": ".py",
   "mimetype": "text/x-python",
   "name": "python",
   "nbconvert_exporter": "python",
   "pygments_lexer": "ipython3",
   "version": "3.8.5"
  }
 },
 "nbformat": 4,
 "nbformat_minor": 1
}
