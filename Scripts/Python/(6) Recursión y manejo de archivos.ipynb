{
 "cells": [
  {
   "cell_type": "markdown",
   "metadata": {
    "id": "lKz4qDgK63p0"
   },
   "source": [
    "## Args y Kwargs en Python\n",
    "\n",
    "Hasta el momento hemos visto un componente básico de las funciones; sin embargo, ¿cómo definimos una función que no tiene un número dijo de parámetros? Supongamos que, se desea realizar un programa capaz de realizar la sumatoria de todos los números que se ingresen, si a priori conocemos que la cantidad de números es de 3, la función correspondiente sería:"
   ]
  },
  {
   "cell_type": "code",
   "execution_count": 3,
   "metadata": {
    "id": "CTIluIoG63p8",
    "outputId": "15f31fc0-e1dd-40a8-c889-fd52016618d0"
   },
   "outputs": [
    {
     "data": {
      "text/plain": [
       "9"
      ]
     },
     "execution_count": 3,
     "metadata": {},
     "output_type": "execute_result"
    }
   ],
   "source": [
    "def suma(a, b, c):\n",
    "    return a+b+c\n",
    "\n",
    "suma(2, 3, 4)"
   ]
  },
  {
   "cell_type": "markdown",
   "metadata": {
    "id": "sTgZ4AJF63qA"
   },
   "source": [
    "¿Pero si queremos sumar cuatro números con la función? Miremos lo que pasa"
   ]
  },
  {
   "cell_type": "code",
   "execution_count": 4,
   "metadata": {
    "id": "KEmDbDul63qC",
    "outputId": "d1dbdcd2-26d3-40d5-b641-ba25b47d7230"
   },
   "outputs": [
    {
     "ename": "TypeError",
     "evalue": "suma() takes 3 positional arguments but 4 were given",
     "output_type": "error",
     "traceback": [
      "\u001b[1;31m---------------------------------------------------------------------------\u001b[0m",
      "\u001b[1;31mTypeError\u001b[0m                                 Traceback (most recent call last)",
      "\u001b[1;32m<ipython-input-4-f5f217001c0b>\u001b[0m in \u001b[0;36m<module>\u001b[1;34m\u001b[0m\n\u001b[1;32m----> 1\u001b[1;33m \u001b[0msuma\u001b[0m\u001b[1;33m(\u001b[0m\u001b[1;36m1\u001b[0m\u001b[1;33m,\u001b[0m \u001b[1;36m2\u001b[0m\u001b[1;33m,\u001b[0m \u001b[1;36m3\u001b[0m\u001b[1;33m,\u001b[0m \u001b[1;36m4\u001b[0m\u001b[1;33m)\u001b[0m\u001b[1;33m\u001b[0m\u001b[1;33m\u001b[0m\u001b[0m\n\u001b[0m",
      "\u001b[1;31mTypeError\u001b[0m: suma() takes 3 positional arguments but 4 were given"
     ]
    }
   ],
   "source": [
    "suma(1, 2, 3, 4)"
   ]
  },
  {
   "cell_type": "markdown",
   "metadata": {
    "id": "w_MFSbUH63qD"
   },
   "source": [
    "Para resolver este problema, utilizaremos Args y Kwargs. "
   ]
  },
  {
   "cell_type": "code",
   "execution_count": 6,
   "metadata": {
    "id": "Dai4CXIu63qE",
    "outputId": "158de553-f591-402d-a75e-4687c16d2f74"
   },
   "outputs": [
    {
     "data": {
      "text/plain": [
       "125"
      ]
     },
     "execution_count": 6,
     "metadata": {},
     "output_type": "execute_result"
    }
   ],
   "source": [
    "def suma(*args): \n",
    "    s = 0 \n",
    "    for arg in args: \n",
    "        s += arg \n",
    "    return s \n",
    "\n",
    "suma(1,2,3,4,5,10,100)"
   ]
  },
  {
   "cell_type": "code",
   "execution_count": 8,
   "metadata": {},
   "outputs": [
    {
     "name": "stdout",
     "output_type": "stream",
     "text": [
      "<class 'tuple'>\n"
     ]
    }
   ],
   "source": [
    "def suma(*args):\n",
    "    print(type(args))\n",
    "\n",
    "suma()"
   ]
  },
  {
   "cell_type": "markdown",
   "metadata": {
    "id": "6CJY4Mxn63qH"
   },
   "source": [
    "Logramos solucionar nuestro problema inicial; empero, existe otra forma de solucionarlo: **Kwargs"
   ]
  },
  {
   "cell_type": "code",
   "execution_count": 7,
   "metadata": {
    "id": "IF0gFo1863qJ",
    "outputId": "8ee27e05-11e0-4e78-d929-b91b03dc9bd8"
   },
   "outputs": [
    {
     "name": "stdout",
     "output_type": "stream",
     "text": [
      "<class 'dict'>\n"
     ]
    }
   ],
   "source": [
    "def suma(**kwargs):\n",
    "    print(type(kwargs))\n",
    "    \n",
    "suma()"
   ]
  },
  {
   "cell_type": "code",
   "execution_count": 15,
   "metadata": {},
   "outputs": [
    {
     "name": "stdout",
     "output_type": "stream",
     "text": [
      "Nombre = Juan\n",
      "Apellido = Pérez\n"
     ]
    }
   ],
   "source": [
    "d1 = {\"Nombre\":\"Juan\",\"Apellido\":\"Pérez\"}\n",
    "d1.items()\n",
    "\n",
    "for key, value in d1.items():\n",
    "     print(str(key) + \" = \"+ str(value))"
   ]
  },
  {
   "cell_type": "code",
   "execution_count": 10,
   "metadata": {
    "id": "VUq25eFf63qL",
    "outputId": "c8ad58da-e9dd-484b-a354-2814a6d882ff"
   },
   "outputs": [
    {
     "name": "stdout",
     "output_type": "stream",
     "text": [
      "a = 1\n",
      "b = 2\n",
      "c = 3\n"
     ]
    },
    {
     "data": {
      "text/plain": [
       "6"
      ]
     },
     "execution_count": 10,
     "metadata": {},
     "output_type": "execute_result"
    }
   ],
   "source": [
    "def suma(**kwargs):\n",
    "    s = 0\n",
    "    for key, value in kwargs.items():\n",
    "        print(str(key) + \" = \"+ str(value))\n",
    "        s += value\n",
    "    return s\n",
    "\n",
    "suma(a = 1, b = 2, c = 3)"
   ]
  },
  {
   "cell_type": "markdown",
   "metadata": {
    "id": "ylhPddse63qO"
   },
   "source": [
    "## Recursión\n",
    "\n",
    "Los ejemplos más típicos para este concepto son: calculo factorial y la serie de fibonacci."
   ]
  },
  {
   "cell_type": "markdown",
   "metadata": {
    "id": "w4PP49Ob63qP"
   },
   "source": [
    "### Factorial\n",
    "\n",
    "Nuestra intención es realizar el cálculo del factorial de un número n!. El factorial de un número n se define como la multiplicación de todos sus números predecesores hasta llegar a uno. Por lo tanto 5!, leído como cinco factorial, sería 5 * 4 * 3 * 2 * 1. Con el enfoque tradicional que hemos visto hasta el momento, podríamos realizarlo con un ciclo while:"
   ]
  },
  {
   "cell_type": "code",
   "execution_count": 16,
   "metadata": {
    "id": "JUjO0Fev63qQ",
    "outputId": "a31b859c-64e8-4f90-fb09-0d25776d256f"
   },
   "outputs": [
    {
     "data": {
      "text/plain": [
       "120"
      ]
     },
     "execution_count": 16,
     "metadata": {},
     "output_type": "execute_result"
    }
   ],
   "source": [
    "def factorial_normal(n):\n",
    "    r = 1 \n",
    "    i = 2  \n",
    "    while i <= n: \n",
    "        r *= i\n",
    "        i += 1 \n",
    "    return r\n",
    "\n",
    "factorial_normal(5)"
   ]
  },
  {
   "cell_type": "markdown",
   "metadata": {
    "id": "IMiU-1dw63qR"
   },
   "source": [
    "Empleando la recursividad:"
   ]
  },
  {
   "cell_type": "code",
   "execution_count": null,
   "metadata": {},
   "outputs": [],
   "source": [
    "# 5! = 5 * 4!"
   ]
  },
  {
   "cell_type": "code",
   "execution_count": 17,
   "metadata": {
    "id": "OuJ6TPjY63qR",
    "outputId": "f17ada07-0bf2-4249-ffca-26d01e359912"
   },
   "outputs": [
    {
     "data": {
      "text/plain": [
       "120"
      ]
     },
     "execution_count": 17,
     "metadata": {},
     "output_type": "execute_result"
    }
   ],
   "source": [
    "def factorial_recursivo(n):\n",
    "    if n == 1:\n",
    "        return 1\n",
    "    else:\n",
    "        return n * factorial_recursivo(n-1) \n",
    "    \n",
    "factorial_recursivo(5)"
   ]
  },
  {
   "cell_type": "markdown",
   "metadata": {
    "id": "5IgxMQN363qT"
   },
   "source": [
    "### Serie de Fibonacci\n",
    "\n",
    "Dicha serie calcula el elemento n sumando los dos anteriores n-1 + n-2. Se asume que los dos primeros elementos son 0 y 1."
   ]
  },
  {
   "cell_type": "code",
   "execution_count": 23,
   "metadata": {
    "id": "qghML31Y63qU",
    "outputId": "b8bf56e0-8a55-4796-ea95-863b1a3e39e5"
   },
   "outputs": [
    {
     "data": {
      "text/plain": [
       "13"
      ]
     },
     "execution_count": 23,
     "metadata": {},
     "output_type": "execute_result"
    }
   ],
   "source": [
    "def fibonacci_recursivo(n):\n",
    "    if n == 0:\n",
    "        return 0\n",
    "    elif n == 1:\n",
    "        return 1\n",
    "    else:\n",
    "        return fibonacci_recursivo(n-1) + fibonacci_recursivo(n-2)\n",
    "    \n",
    "fibonacci_recursivo(7)"
   ]
  },
  {
   "cell_type": "markdown",
   "metadata": {
    "id": "AHoV7_Tn63qV"
   },
   "source": [
    "## Lectura de archivos\n",
    "\n",
    "Podemos abrir el fichero con la función open() pasando como argumento el nombre del fichero que queremos abrir."
   ]
  },
  {
   "cell_type": "code",
   "execution_count": 24,
   "metadata": {
    "id": "bBBhy7Hu63qW"
   },
   "outputs": [
    {
     "data": {
      "text/plain": [
       "<_io.TextIOWrapper name='C:\\\\Users\\\\57317\\\\Desktop\\\\Universidad Nacional\\\\Programación\\\\Python\\\\Curso Introducción a Python y R\\\\Bases de datos\\\\ejemplo.txt' mode='r' encoding='cp1252'>"
      ]
     },
     "execution_count": 24,
     "metadata": {},
     "output_type": "execute_result"
    }
   ],
   "source": [
    "fichero = open(r\"C:\\Users\\57317\\Desktop\\Universidad Nacional\\Programación\\Python\\Curso Introducción a Python y R\\Bases de datos\\ejemplo.txt\")\n",
    "fichero"
   ]
  },
  {
   "cell_type": "markdown",
   "metadata": {
    "id": "mG2dOcg463qW"
   },
   "source": [
    "**Método read** "
   ]
  },
  {
   "cell_type": "code",
   "execution_count": 25,
   "metadata": {
    "id": "RgD5HNzh63qX",
    "outputId": "577098b3-3e73-46ba-fe92-fa602110b475"
   },
   "outputs": [
    {
     "name": "stdout",
     "output_type": "stream",
     "text": [
      "Hola! Bienvenidos al curso de introducciÃ³n a la programaciÃ³n de python\n",
      "El dÃ­a de hoy vamos a explorar la apertura de archivos y otras cosas fantÃ¡sticas\n",
      "Â¿QuÃ© tal una adivinanza?\n",
      "Â¿QuÃ© tiene un cuello pero no cabeza?\n"
     ]
    }
   ],
   "source": [
    "print(fichero.read())"
   ]
  },
  {
   "cell_type": "markdown",
   "metadata": {
    "id": "8hVvrm2W63qY"
   },
   "source": [
    "**Método readline()**"
   ]
  },
  {
   "cell_type": "code",
   "execution_count": 27,
   "metadata": {},
   "outputs": [
    {
     "name": "stdout",
     "output_type": "stream",
     "text": [
      "Hola! Bienvenidos al curso de introducciÃ³n a la programaciÃ³n de python\n",
      "\n",
      "El dÃ­a de hoy vamos a explorar la apertura de archivos y otras cosas fantÃ¡sticas\n",
      "\n"
     ]
    }
   ],
   "source": [
    "fichero = open(r\"C:\\Users\\57317\\Desktop\\Universidad Nacional\\Programación\\Python\\Curso Introducción a Python y R\\Bases de datos\\ejemplo.txt\")\n",
    "\n",
    "print(fichero.readline())\n",
    "print(fichero.readline())"
   ]
  },
  {
   "cell_type": "markdown",
   "metadata": {
    "id": "sEfzSn7b63qZ"
   },
   "source": [
    "**Método readlines()**"
   ]
  },
  {
   "cell_type": "code",
   "execution_count": 28,
   "metadata": {},
   "outputs": [
    {
     "name": "stdout",
     "output_type": "stream",
     "text": [
      "['Hola! Bienvenidos al curso de introducciÃ³n a la programaciÃ³n de python\\n', 'El dÃ\\xada de hoy vamos a explorar la apertura de archivos y otras cosas fantÃ¡sticas\\n', 'Â¿QuÃ© tal una adivinanza?\\n', 'Â¿QuÃ© tiene un cuello pero no cabeza?']\n"
     ]
    }
   ],
   "source": [
    "fichero = open(r\"C:\\Users\\57317\\Desktop\\Universidad Nacional\\Programación\\Python\\Curso Introducción a Python y R\\Bases de datos\\ejemplo.txt\")\n",
    "\n",
    "print(fichero.readlines())\n"
   ]
  },
  {
   "cell_type": "markdown",
   "metadata": {
    "id": "VINEDcE363qa"
   },
   "source": [
    "**Argumentos de open()**\n",
    "\n",
    "Hasta ahora hemos visto la función open() con tan sólo un argumento de entrada, el nombre del fichero. Lo cierto es que existe un segundo argumento que es importante especificar. Se trata del modo de apertura del fichero. \n",
    "\n",
    "    -> ‘r’: Por defecto, para leer el fichero.\n",
    "    -> ‘w’: Para escribir en el fichero.\n",
    "    -> ‘x’: Para la creación, fallando si ya existe.\n",
    "    -> ‘a’: Para añadir contenido a un fichero existente.\n",
    "    -> ‘b’: Para abrir en modo binario."
   ]
  },
  {
   "cell_type": "code",
   "execution_count": 29,
   "metadata": {},
   "outputs": [],
   "source": [
    "fichero = open(r\"C:\\Users\\57317\\Desktop\\Universidad Nacional\\Programación\\Python\\Curso Introducción a Python y R\\Bases de datos\\ejemplo.txt\", \"r\")"
   ]
  },
  {
   "cell_type": "code",
   "execution_count": null,
   "metadata": {},
   "outputs": [],
   "source": [
    "fichero.close()"
   ]
  },
  {
   "cell_type": "markdown",
   "metadata": {
    "id": "csViuXmp63qc"
   },
   "source": [
    "### Escritura en archivos\n",
    "Sigamos trabajando con Open() haciendo énfasis en:\n",
    " \n",
    "    -> ‘w’: Borra el fichero si ya existiese y crea uno nuevo con el nombre indicado.\n",
    "    -> ‘a’: Añadirá el contenido al final del fichero si ya existiese (append end Inglés)\n",
    "    -> ‘x’: Si ya existe el fichero se devuelve un error.\n",
    "    \n",
    "    Iniciemos creando un fichero"
   ]
  },
  {
   "cell_type": "code",
   "execution_count": 32,
   "metadata": {},
   "outputs": [],
   "source": [
    "fichero = open(r\"C:\\Users\\57317\\Desktop\\Universidad Nacional\\Programación\\Python\\Curso Introducción a Python y R\\Bases de datos\\datos_guardados.txt\", \"w\")"
   ]
  },
  {
   "cell_type": "markdown",
   "metadata": {
    "id": "harjsvD263qd"
   },
   "source": [
    "Si por lo contrario queremos añadir el contenido al ya existente en un fichero de antes, podemos hacerlo en el modo append."
   ]
  },
  {
   "cell_type": "code",
   "execution_count": 33,
   "metadata": {},
   "outputs": [],
   "source": [
    "fichero = open(r\"C:\\Users\\57317\\Desktop\\Universidad Nacional\\Programación\\Python\\Curso Introducción a Python y R\\Bases de datos\\ejemplo.txt\", \"a\")"
   ]
  },
  {
   "cell_type": "markdown",
   "metadata": {
    "id": "yqnllcvb63qe"
   },
   "source": [
    "**Método write()**"
   ]
  },
  {
   "cell_type": "code",
   "execution_count": 35,
   "metadata": {},
   "outputs": [],
   "source": [
    "fichero = open(r\"C:\\Users\\57317\\Desktop\\Universidad Nacional\\Programación\\Python\\Curso Introducción a Python y R\\Bases de datos\\datos_guardados.txt\", \"w\")\n",
    "fichero.write(\"Hola mundo!\")\n",
    "fichero.close()"
   ]
  },
  {
   "cell_type": "code",
   "execution_count": 37,
   "metadata": {},
   "outputs": [],
   "source": [
    "fichero = open(r\"C:\\Users\\57317\\Desktop\\Universidad Nacional\\Programación\\Python\\Curso Introducción a Python y R\\Bases de datos\\datos_guardados.txt\", \"w\")\n",
    "\n",
    "# Lista elementos\n",
    "frutas = [\"Banano\", \"Manzana\", \"Pera\"]\n",
    "\n",
    "for fruta in frutas:\n",
    "    fichero.write(fruta + \"\\n\")\n",
    "    \n",
    "fichero.close()"
   ]
  },
  {
   "cell_type": "markdown",
   "metadata": {
    "id": "0TylfNFj63qg"
   },
   "source": [
    "**Método writelines()**"
   ]
  },
  {
   "cell_type": "code",
   "execution_count": 41,
   "metadata": {},
   "outputs": [],
   "source": [
    "fichero = open(r\"C:\\Users\\57317\\Desktop\\Universidad Nacional\\Programación\\Python\\Curso Introducción a Python y R\\Bases de datos\\datos_guardados.txt\", \"w\")\n",
    "\n",
    "# Lista elementos\n",
    "frutas = [\"Banano \\n\", \"Manzana \\n\", \"Pera \\n\"]\n",
    "\n",
    "fichero.writelines(frutas)\n",
    "fichero.close()"
   ]
  },
  {
   "cell_type": "markdown",
   "metadata": {
    "id": "Va0SZ8c063qg"
   },
   "source": [
    "**Uso del with** Podemos ahorrar una línea de código si hacemos uso de lo siguiente. En este caso nos podemos ahorrar la llamada al close() ya que se realiza automáticamente. "
   ]
  },
  {
   "cell_type": "code",
   "execution_count": 42,
   "metadata": {},
   "outputs": [],
   "source": [
    "with open(r\"C:\\Users\\57317\\Desktop\\Universidad Nacional\\Programación\\Python\\Curso Introducción a Python y R\\Bases de datos\\datos_guardados.txt\", \"w\") as fichero:\n",
    "    fichero.writelines(frutas)"
   ]
  },
  {
   "cell_type": "markdown",
   "metadata": {
    "id": "d6qitYgV63qh"
   },
   "source": [
    "## Librerías"
   ]
  },
  {
   "cell_type": "markdown",
   "metadata": {
    "id": "v-39zkZX63qh"
   },
   "source": [
    "### NumPy"
   ]
  },
  {
   "cell_type": "code",
   "execution_count": 43,
   "metadata": {
    "id": "apLt1Jwh63qi",
    "outputId": "9df93201-0ddf-454b-ad6c-df89e3137eba"
   },
   "outputs": [
    {
     "name": "stdout",
     "output_type": "stream",
     "text": [
      "[1 2 3 4 5]\n"
     ]
    }
   ],
   "source": [
    "import numpy\n",
    "\n",
    "arr = numpy.array([1, 2, 3, 4, 5])\n",
    "print(arr)"
   ]
  },
  {
   "cell_type": "code",
   "execution_count": 46,
   "metadata": {
    "id": "cwr5_8ut63qi",
    "outputId": "810a82ba-db7f-4e53-bdc6-3d42418d642b"
   },
   "outputs": [
    {
     "name": "stdout",
     "output_type": "stream",
     "text": [
      "[1 2 3 4 5]\n"
     ]
    }
   ],
   "source": [
    "import numpy as np\n",
    "\n",
    "arr = np.array([1, 2, 3, 4, 5])\n",
    "\n",
    "print(arr)"
   ]
  },
  {
   "cell_type": "code",
   "execution_count": 47,
   "metadata": {
    "id": "r4iy1FkO63qj",
    "outputId": "adfd19fc-f47d-4f29-c5da-073d159c8133"
   },
   "outputs": [
    {
     "name": "stdout",
     "output_type": "stream",
     "text": [
      "<class 'numpy.ndarray'>\n"
     ]
    }
   ],
   "source": [
    "print(type(arr))"
   ]
  },
  {
   "cell_type": "markdown",
   "metadata": {
    "id": "AHwHKJik63qk"
   },
   "source": [
    "Las matrices 0-D, o escalares, son los elementos de una matriz. Cada valor de una matriz es una matriz 0-D."
   ]
  },
  {
   "cell_type": "code",
   "execution_count": 48,
   "metadata": {
    "id": "Md4_rFNt63qk",
    "outputId": "c5a0353a-c5b5-41a3-bc3c-4bd2469dc284"
   },
   "outputs": [
    {
     "name": "stdout",
     "output_type": "stream",
     "text": [
      "42\n"
     ]
    }
   ],
   "source": [
    "arr = np.array(42)\n",
    "print(arr)"
   ]
  },
  {
   "cell_type": "markdown",
   "metadata": {
    "id": "99bhXjsi63ql"
   },
   "source": [
    "Una matriz que tiene matrices 0-D como sus elementos se llama matriz unidimensional o 1-D."
   ]
  },
  {
   "cell_type": "code",
   "execution_count": 49,
   "metadata": {
    "id": "o2zXcfkg63ql",
    "outputId": "f731821b-7237-4df4-dee1-67b6efd40384"
   },
   "outputs": [
    {
     "name": "stdout",
     "output_type": "stream",
     "text": [
      "[1 2 3 4 5]\n"
     ]
    }
   ],
   "source": [
    "arr = np.array([1, 2, 3, 4, 5])\n",
    "print(arr)"
   ]
  },
  {
   "cell_type": "code",
   "execution_count": 50,
   "metadata": {},
   "outputs": [
    {
     "data": {
      "text/plain": [
       "3"
      ]
     },
     "execution_count": 50,
     "metadata": {},
     "output_type": "execute_result"
    }
   ],
   "source": [
    "arr[2]"
   ]
  },
  {
   "cell_type": "code",
   "execution_count": 51,
   "metadata": {},
   "outputs": [
    {
     "data": {
      "text/plain": [
       "7"
      ]
     },
     "execution_count": 51,
     "metadata": {},
     "output_type": "execute_result"
    }
   ],
   "source": [
    "arr[2] + arr[3]"
   ]
  },
  {
   "cell_type": "markdown",
   "metadata": {
    "id": "Z7w6_GZr63qm"
   },
   "source": [
    "Una matriz que tiene matrices 1-D como sus elementos se denomina matriz 2-D. A menudo se utilizan para representar tensores de matriz o de segundo orden."
   ]
  },
  {
   "cell_type": "code",
   "execution_count": 53,
   "metadata": {},
   "outputs": [
    {
     "data": {
      "text/plain": [
       "[[1, 2, 3], [4, 5, 6]]"
      ]
     },
     "execution_count": 53,
     "metadata": {},
     "output_type": "execute_result"
    }
   ],
   "source": [
    "[[1,2,3],[4,5,6]]"
   ]
  },
  {
   "cell_type": "code",
   "execution_count": 52,
   "metadata": {
    "id": "XvdjVkje63qn",
    "outputId": "39641d17-97a6-44a1-cc79-5b980eb8f36b",
    "scrolled": true
   },
   "outputs": [
    {
     "name": "stdout",
     "output_type": "stream",
     "text": [
      "[[1 2 3]\n",
      " [4 5 6]]\n"
     ]
    }
   ],
   "source": [
    "arr = np.array([[1,2,3],[4,5,6]])\n",
    "print(arr)"
   ]
  },
  {
   "cell_type": "code",
   "execution_count": 54,
   "metadata": {
    "id": "4TjloXwa63qo",
    "outputId": "0ce02170-c675-4487-ea0c-8e870d591283"
   },
   "outputs": [
    {
     "name": "stdout",
     "output_type": "stream",
     "text": [
      "2do elemento en 1ra fila:  2\n"
     ]
    }
   ],
   "source": [
    "print('2do elemento en 1ra fila: ', arr[0,1])"
   ]
  },
  {
   "cell_type": "markdown",
   "metadata": {
    "id": "3IrB6wa063qo"
   },
   "source": [
    "Una matriz que tiene matrices 2-D (matrices) como sus elementos se llama matriz 3-D. A menudo se utilizan para representar un tensor de tercer orden."
   ]
  },
  {
   "cell_type": "code",
   "execution_count": 55,
   "metadata": {
    "id": "tG9A9qz563qo",
    "outputId": "ae069288-9451-4cfe-e4cd-950b3c33e38c",
    "scrolled": true
   },
   "outputs": [
    {
     "name": "stdout",
     "output_type": "stream",
     "text": [
      "[[[ 1  2  3]\n",
      "  [ 4  5  6]]\n",
      "\n",
      " [[11 21 31]\n",
      "  [41 51 61]]]\n"
     ]
    }
   ],
   "source": [
    "arr = np.array([[[1,2,3],[4,5,6]], [[11,21,31],[41,51,61]]])\n",
    "print(arr)"
   ]
  },
  {
   "cell_type": "code",
   "execution_count": 56,
   "metadata": {
    "id": "Uc7Z0X2K63qp",
    "outputId": "8f30044b-dcd8-4641-dc31-817fb693c49d"
   },
   "outputs": [
    {
     "name": "stdout",
     "output_type": "stream",
     "text": [
      "6\n"
     ]
    }
   ],
   "source": [
    "print(arr[0,1,2]) # Acceda al tercer elemento de la segunda matriz de la primera matriz"
   ]
  },
  {
   "cell_type": "code",
   "execution_count": 57,
   "metadata": {
    "id": "ZLXjDgy663qp",
    "outputId": "1f77ae6f-9b38-499a-d3ae-32420e31ba45"
   },
   "outputs": [
    {
     "name": "stdout",
     "output_type": "stream",
     "text": [
      "0\n",
      "1\n",
      "2\n",
      "3\n"
     ]
    }
   ],
   "source": [
    "# Para verificar las dimensiones\n",
    "\n",
    "a = np.array(42)\n",
    "b = np.array([1, 2, 3, 4, 5])\n",
    "c = np.array([[1, 2, 3], [4, 5, 6]])\n",
    "d = np.array([[[1, 2, 3], [4, 5, 6]], [[1, 2, 3], [4, 5, 6]]])\n",
    "\n",
    "print(a.ndim)\n",
    "print(b.ndim)\n",
    "print(c.ndim)\n",
    "print(d.ndim)"
   ]
  },
  {
   "cell_type": "markdown",
   "metadata": {
    "id": "3d0wgx-b63qq"
   },
   "source": [
    "**Con numpy podemos hacer distribuciones**"
   ]
  },
  {
   "cell_type": "code",
   "execution_count": 58,
   "metadata": {
    "id": "qNcoiXjP63qq",
    "outputId": "85a7037b-d482-4953-df6b-67370f5c317b"
   },
   "outputs": [
    {
     "name": "stdout",
     "output_type": "stream",
     "text": [
      "[[-0.5549337   0.51038032  1.32309999]\n",
      " [-1.53253212  0.97911061 -2.58123068]]\n"
     ]
    }
   ],
   "source": [
    "from numpy import random\n",
    "\n",
    "x = random.normal(size=(2, 3))\n",
    "print(x)"
   ]
  },
  {
   "cell_type": "code",
   "execution_count": 59,
   "metadata": {
    "id": "uJtq6fx463qr",
    "outputId": "3da85bcf-9a70-4b35-edd1-2478d01edde1"
   },
   "outputs": [
    {
     "name": "stdout",
     "output_type": "stream",
     "text": [
      "[[ 0.42230176  0.07926452  2.58134781]\n",
      " [-0.50233372  0.75969523 -0.10017346]]\n"
     ]
    }
   ],
   "source": [
    "x = random.normal(loc=1, scale=2, size=(2, 3)) \n",
    "print(x)"
   ]
  },
  {
   "cell_type": "code",
   "execution_count": 60,
   "metadata": {
    "id": "ux3lLeBM63qr",
    "outputId": "a8e65e31-890c-4f38-e72d-ddac4889b49d",
    "scrolled": true
   },
   "outputs": [],
   "source": [
    "# Visualización\n",
    "import matplotlib.pyplot as plt\n",
    "import seaborn as sns"
   ]
  },
  {
   "cell_type": "code",
   "execution_count": 66,
   "metadata": {
    "id": "IJiBjiTF63qr",
    "outputId": "ee3cc4fe-99ae-45b5-bfdb-537467c63ece"
   },
   "outputs": [
    {
     "name": "stderr",
     "output_type": "stream",
     "text": [
      "C:\\Users\\57317\\anaconda3\\lib\\site-packages\\seaborn\\distributions.py:2557: FutureWarning: `distplot` is a deprecated function and will be removed in a future version. Please adapt your code to use either `displot` (a figure-level function with similar flexibility) or `histplot` (an axes-level function for histograms).\n",
      "  warnings.warn(msg, FutureWarning)\n"
     ]
    },
    {
     "data": {
      "image/png": "[encoded data removed]",
      "text/plain": [
       "<Figure size 432x288 with 1 Axes>"
      ]
     },
     "metadata": {
      "needs_background": "light"
     },
     "output_type": "display_data"
    }
   ],
   "source": [
    "# Hagamos una distribución normal\n",
    "sns.distplot(random.normal(size=1000), hist=True);"
   ]
  },
  {
   "cell_type": "code",
   "execution_count": 68,
   "metadata": {},
   "outputs": [
    {
     "name": "stderr",
     "output_type": "stream",
     "text": [
      "C:\\Users\\57317\\anaconda3\\lib\\site-packages\\seaborn\\distributions.py:2557: FutureWarning: `distplot` is a deprecated function and will be removed in a future version. Please adapt your code to use either `displot` (a figure-level function with similar flexibility) or `histplot` (an axes-level function for histograms).\n",
      "  warnings.warn(msg, FutureWarning)\n"
     ]
    },
    {
     "data": {
      "image/png": "[encoded data removed]",
      "text/plain": [
       "<Figure size 432x288 with 1 Axes>"
      ]
     },
     "metadata": {
      "needs_background": "light"
     },
     "output_type": "display_data"
    }
   ],
   "source": [
    "# Hagamos una distribución uniforme\n",
    "sns.distplot(random.uniform(size=1000), hist=True);"
   ]
  },
  {
   "cell_type": "code",
   "execution_count": 69,
   "metadata": {
    "id": "n8fYsbBb63qs",
    "outputId": "f075653b-ff72-40ff-b241-3f7fb3e9a00a"
   },
   "outputs": [
    {
     "name": "stderr",
     "output_type": "stream",
     "text": [
      "C:\\Users\\57317\\anaconda3\\lib\\site-packages\\seaborn\\distributions.py:2557: FutureWarning: `distplot` is a deprecated function and will be removed in a future version. Please adapt your code to use either `displot` (a figure-level function with similar flexibility) or `histplot` (an axes-level function for histograms).\n",
      "  warnings.warn(msg, FutureWarning)\n"
     ]
    },
    {
     "data": {
      "image/png": "[encoded data removed]",
      "text/plain": [
       "<Figure size 432x288 with 1 Axes>"
      ]
     },
     "metadata": {
      "needs_background": "light"
     },
     "output_type": "display_data"
    }
   ],
   "source": [
    "# Hagamos una logística\n",
    "sns.distplot(random.logistic(size=1000), hist=True);"
   ]
  },
  {
   "cell_type": "markdown",
   "metadata": {
    "id": "tXGD0_ng63qs"
   },
   "source": [
    "### Pandas"
   ]
  },
  {
   "cell_type": "code",
   "execution_count": 71,
   "metadata": {
    "id": "FzdPwWkA63qt",
    "outputId": "6b7eb248-45f3-4ea8-cd89-d7eabb52356d"
   },
   "outputs": [
    {
     "data": {
      "text/html": [
       "<div>\n",
       "<style scoped>\n",
       "    .dataframe tbody tr th:only-of-type {\n",
       "        vertical-align: middle;\n",
       "    }\n",
       "\n",
       "    .dataframe tbody tr th {\n",
       "        vertical-align: top;\n",
       "    }\n",
       "\n",
       "    .dataframe thead th {\n",
       "        text-align: right;\n",
       "    }\n",
       "</style>\n",
       "<table border=\"1\" class=\"dataframe\">\n",
       "  <thead>\n",
       "    <tr style=\"text-align: right;\">\n",
       "      <th></th>\n",
       "      <th>Carro</th>\n",
       "      <th>Asientos</th>\n",
       "    </tr>\n",
       "  </thead>\n",
       "  <tbody>\n",
       "    <tr>\n",
       "      <th>0</th>\n",
       "      <td>BMW</td>\n",
       "      <td>3</td>\n",
       "    </tr>\n",
       "    <tr>\n",
       "      <th>1</th>\n",
       "      <td>Volvo</td>\n",
       "      <td>7</td>\n",
       "    </tr>\n",
       "    <tr>\n",
       "      <th>2</th>\n",
       "      <td>Ford</td>\n",
       "      <td>2</td>\n",
       "    </tr>\n",
       "  </tbody>\n",
       "</table>\n",
       "</div>"
      ],
      "text/plain": [
       "   Carro  Asientos\n",
       "0    BMW         3\n",
       "1  Volvo         7\n",
       "2   Ford         2"
      ]
     },
     "execution_count": 71,
     "metadata": {},
     "output_type": "execute_result"
    }
   ],
   "source": [
    "import pandas\n",
    "\n",
    "mydataset = {\n",
    "    'Carro': [\"BMW\", \"Volvo\", \"Ford\"],\n",
    "    'Asientos': [3, 7, 2]\n",
    "}\n",
    "\n",
    "myvar = pandas.DataFrame(mydataset)\n",
    "\n",
    "myvar"
   ]
  },
  {
   "cell_type": "code",
   "execution_count": 2,
   "metadata": {
    "id": "9RE0GzuJ63qt",
    "outputId": "5b97ef56-81ab-4a93-f712-8f113d5caa01"
   },
   "outputs": [
    {
     "data": {
      "text/html": [
       "<div>\n",
       "<style scoped>\n",
       "    .dataframe tbody tr th:only-of-type {\n",
       "        vertical-align: middle;\n",
       "    }\n",
       "\n",
       "    .dataframe tbody tr th {\n",
       "        vertical-align: top;\n",
       "    }\n",
       "\n",
       "    .dataframe thead th {\n",
       "        text-align: right;\n",
       "    }\n",
       "</style>\n",
       "<table border=\"1\" class=\"dataframe\">\n",
       "  <thead>\n",
       "    <tr style=\"text-align: right;\">\n",
       "      <th></th>\n",
       "      <th>Carro</th>\n",
       "      <th>Asientos</th>\n",
       "    </tr>\n",
       "  </thead>\n",
       "  <tbody>\n",
       "    <tr>\n",
       "      <th>0</th>\n",
       "      <td>BMW</td>\n",
       "      <td>3</td>\n",
       "    </tr>\n",
       "    <tr>\n",
       "      <th>1</th>\n",
       "      <td>Volvo</td>\n",
       "      <td>7</td>\n",
       "    </tr>\n",
       "    <tr>\n",
       "      <th>2</th>\n",
       "      <td>Ford</td>\n",
       "      <td>2</td>\n",
       "    </tr>\n",
       "  </tbody>\n",
       "</table>\n",
       "</div>"
      ],
      "text/plain": [
       "   Carro  Asientos\n",
       "0    BMW         3\n",
       "1  Volvo         7\n",
       "2   Ford         2"
      ]
     },
     "execution_count": 2,
     "metadata": {},
     "output_type": "execute_result"
    }
   ],
   "source": [
    "import pandas as pd\n",
    "\n",
    "mydataset = {\n",
    "    'Carro': [\"BMW\", \"Volvo\", \"Ford\"],\n",
    "    'Asientos': [3, 7, 2]\n",
    "}\n",
    "\n",
    "myvar = pd.DataFrame(mydataset)\n",
    "\n",
    "myvar"
   ]
  },
  {
   "cell_type": "markdown",
   "metadata": {
    "id": "K5_YbR3563qu"
   },
   "source": [
    "#### Series \n",
    "\n",
    "Una serie Pandas es como una columna en una tabla. Es una matriz unidimensional que contiene datos de cualquier tipo."
   ]
  },
  {
   "cell_type": "code",
   "execution_count": 75,
   "metadata": {},
   "outputs": [
    {
     "name": "stdout",
     "output_type": "stream",
     "text": [
      "0    1\n",
      "1    2\n",
      "2    3\n",
      "dtype: int64\n"
     ]
    }
   ],
   "source": [
    "a = [ 1, 2, 3]\n",
    "\n",
    "myvar = pd.Series(a)\n",
    "\n",
    "print(myvar)"
   ]
  },
  {
   "cell_type": "code",
   "execution_count": 76,
   "metadata": {},
   "outputs": [
    {
     "data": {
      "text/plain": [
       "3"
      ]
     },
     "execution_count": 76,
     "metadata": {},
     "output_type": "execute_result"
    }
   ],
   "source": [
    "myvar[2]"
   ]
  },
  {
   "cell_type": "code",
   "execution_count": 81,
   "metadata": {},
   "outputs": [
    {
     "data": {
      "text/plain": [
       "3"
      ]
     },
     "execution_count": 81,
     "metadata": {},
     "output_type": "execute_result"
    }
   ],
   "source": [
    "myvar = pd.Series(a, index=[\"a\",\"b\",\"c\"])\n",
    "myvar[\"c\"]"
   ]
  },
  {
   "cell_type": "markdown",
   "metadata": {
    "id": "Vx_lXQ5V63qw"
   },
   "source": [
    "#### DataFrame\n",
    "Un DataFrame de Pandas es una estructura de datos bidimensional, como una matriz bidimensional o una tabla con filas y columnas."
   ]
  },
  {
   "cell_type": "code",
   "execution_count": 3,
   "metadata": {},
   "outputs": [
    {
     "data": {
      "text/html": [
       "<div>\n",
       "<style scoped>\n",
       "    .dataframe tbody tr th:only-of-type {\n",
       "        vertical-align: middle;\n",
       "    }\n",
       "\n",
       "    .dataframe tbody tr th {\n",
       "        vertical-align: top;\n",
       "    }\n",
       "\n",
       "    .dataframe thead th {\n",
       "        text-align: right;\n",
       "    }\n",
       "</style>\n",
       "<table border=\"1\" class=\"dataframe\">\n",
       "  <thead>\n",
       "    <tr style=\"text-align: right;\">\n",
       "      <th></th>\n",
       "      <th>Carro</th>\n",
       "      <th>Asientos</th>\n",
       "    </tr>\n",
       "  </thead>\n",
       "  <tbody>\n",
       "    <tr>\n",
       "      <th>0</th>\n",
       "      <td>BMW</td>\n",
       "      <td>3</td>\n",
       "    </tr>\n",
       "    <tr>\n",
       "      <th>1</th>\n",
       "      <td>Volvo</td>\n",
       "      <td>7</td>\n",
       "    </tr>\n",
       "    <tr>\n",
       "      <th>2</th>\n",
       "      <td>Ford</td>\n",
       "      <td>2</td>\n",
       "    </tr>\n",
       "  </tbody>\n",
       "</table>\n",
       "</div>"
      ],
      "text/plain": [
       "   Carro  Asientos\n",
       "0    BMW         3\n",
       "1  Volvo         7\n",
       "2   Ford         2"
      ]
     },
     "execution_count": 3,
     "metadata": {},
     "output_type": "execute_result"
    }
   ],
   "source": [
    "mydataset = {\n",
    "    'Carro': [\"BMW\", \"Volvo\", \"Ford\"],\n",
    "    'Asientos': [3, 7, 2]\n",
    "}\n",
    "\n",
    "myvar = pd.DataFrame(mydataset)\n",
    "\n",
    "myvar"
   ]
  },
  {
   "cell_type": "code",
   "execution_count": 9,
   "metadata": {},
   "outputs": [
    {
     "data": {
      "text/plain": [
       "Carro       Ford\n",
       "Asientos       2\n",
       "Name: 2, dtype: object"
      ]
     },
     "execution_count": 9,
     "metadata": {},
     "output_type": "execute_result"
    }
   ],
   "source": [
    "myvar.iloc[2]"
   ]
  },
  {
   "cell_type": "code",
   "execution_count": 11,
   "metadata": {
    "id": "HRSMs5Ua63qy",
    "outputId": "b2ec0058-d307-44ab-d800-f1907620098f"
   },
   "outputs": [
    {
     "data": {
      "text/html": [
       "<div>\n",
       "<style scoped>\n",
       "    .dataframe tbody tr th:only-of-type {\n",
       "        vertical-align: middle;\n",
       "    }\n",
       "\n",
       "    .dataframe tbody tr th {\n",
       "        vertical-align: top;\n",
       "    }\n",
       "\n",
       "    .dataframe thead th {\n",
       "        text-align: right;\n",
       "    }\n",
       "</style>\n",
       "<table border=\"1\" class=\"dataframe\">\n",
       "  <thead>\n",
       "    <tr style=\"text-align: right;\">\n",
       "      <th></th>\n",
       "      <th>Calorias</th>\n",
       "      <th>Duracion</th>\n",
       "    </tr>\n",
       "  </thead>\n",
       "  <tbody>\n",
       "    <tr>\n",
       "      <th>dia1</th>\n",
       "      <td>420</td>\n",
       "      <td>50</td>\n",
       "    </tr>\n",
       "    <tr>\n",
       "      <th>dia2</th>\n",
       "      <td>380</td>\n",
       "      <td>40</td>\n",
       "    </tr>\n",
       "    <tr>\n",
       "      <th>dia3</th>\n",
       "      <td>390</td>\n",
       "      <td>45</td>\n",
       "    </tr>\n",
       "  </tbody>\n",
       "</table>\n",
       "</div>"
      ],
      "text/plain": [
       "      Calorias  Duracion\n",
       "dia1       420        50\n",
       "dia2       380        40\n",
       "dia3       390        45"
      ]
     },
     "execution_count": 11,
     "metadata": {},
     "output_type": "execute_result"
    }
   ],
   "source": [
    "data = {\n",
    "  \"Calorias\": [420, 380, 390],\n",
    "  \"Duracion\": [50, 40, 45]\n",
    "}\n",
    "\n",
    "df = pd.DataFrame(data, index = [\"dia1\", \"dia2\", \"dia3\"])\n",
    "\n",
    "df "
   ]
  },
  {
   "cell_type": "code",
   "execution_count": 14,
   "metadata": {
    "id": "P6Mj1m7v63qy",
    "outputId": "f10e7a4b-f30f-4991-ec87-a93dcacfa146"
   },
   "outputs": [
    {
     "name": "stdout",
     "output_type": "stream",
     "text": [
      "Calorias    390\n",
      "Duracion     45\n",
      "Name: dia3, dtype: int64\n"
     ]
    }
   ],
   "source": [
    "print(df.iloc[2])"
   ]
  },
  {
   "cell_type": "code",
   "execution_count": 15,
   "metadata": {},
   "outputs": [
    {
     "data": {
      "text/plain": [
       "dia1    50\n",
       "dia2    40\n",
       "dia3    45\n",
       "Name: Duracion, dtype: int64"
      ]
     },
     "execution_count": 15,
     "metadata": {},
     "output_type": "execute_result"
    }
   ],
   "source": [
    "df[\"Duracion\"]"
   ]
  },
  {
   "cell_type": "markdown",
   "metadata": {
    "id": "1rrmCimK63qz"
   },
   "source": [
    "#### Cargar archivo csv\n",
    "Pandas nos permite cargar diverentes tipos de archivos, entre esos el csv"
   ]
  },
  {
   "cell_type": "code",
   "execution_count": 19,
   "metadata": {
    "id": "70GvA_ot63qz",
    "outputId": "16ef25f6-f7cd-4155-f327-3a40a4177bd2"
   },
   "outputs": [
    {
     "data": {
      "text/html": [
       "<div>\n",
       "<style scoped>\n",
       "    .dataframe tbody tr th:only-of-type {\n",
       "        vertical-align: middle;\n",
       "    }\n",
       "\n",
       "    .dataframe tbody tr th {\n",
       "        vertical-align: top;\n",
       "    }\n",
       "\n",
       "    .dataframe thead th {\n",
       "        text-align: right;\n",
       "    }\n",
       "</style>\n",
       "<table border=\"1\" class=\"dataframe\">\n",
       "  <thead>\n",
       "    <tr style=\"text-align: right;\">\n",
       "      <th></th>\n",
       "      <th>Fecha</th>\n",
       "      <th>Camas UCI ocupadas Covid-19</th>\n",
       "      <th>Total camas UCI COVID 19 reportadas por IPS</th>\n",
       "      <th>Ocupaci�n UCI COVID 19</th>\n",
       "    </tr>\n",
       "  </thead>\n",
       "  <tbody>\n",
       "    <tr>\n",
       "      <th>0</th>\n",
       "      <td>8/04/2020</td>\n",
       "      <td>106.0</td>\n",
       "      <td>543.0</td>\n",
       "      <td>19,50%</td>\n",
       "    </tr>\n",
       "    <tr>\n",
       "      <th>1</th>\n",
       "      <td>9/04/2020</td>\n",
       "      <td>136.0</td>\n",
       "      <td>608.0</td>\n",
       "      <td>22,40%</td>\n",
       "    </tr>\n",
       "    <tr>\n",
       "      <th>2</th>\n",
       "      <td>10/04/2020</td>\n",
       "      <td>150.0</td>\n",
       "      <td>596.0</td>\n",
       "      <td>25,20%</td>\n",
       "    </tr>\n",
       "    <tr>\n",
       "      <th>3</th>\n",
       "      <td>11/04/2020</td>\n",
       "      <td>148.0</td>\n",
       "      <td>597.0</td>\n",
       "      <td>24,80%</td>\n",
       "    </tr>\n",
       "    <tr>\n",
       "      <th>4</th>\n",
       "      <td>12/04/2020</td>\n",
       "      <td>178.0</td>\n",
       "      <td>576.0</td>\n",
       "      <td>30,90%</td>\n",
       "    </tr>\n",
       "  </tbody>\n",
       "</table>\n",
       "</div>"
      ],
      "text/plain": [
       "        Fecha  Camas UCI ocupadas Covid-19  \\\n",
       "0   8/04/2020                        106.0   \n",
       "1   9/04/2020                        136.0   \n",
       "2  10/04/2020                        150.0   \n",
       "3  11/04/2020                        148.0   \n",
       "4  12/04/2020                        178.0   \n",
       "\n",
       "   Total camas UCI COVID 19 reportadas por IPS Ocupaci�n UCI COVID 19  \n",
       "0                                        543.0                 19,50%  \n",
       "1                                        608.0                 22,40%  \n",
       "2                                        596.0                 25,20%  \n",
       "3                                        597.0                 24,80%  \n",
       "4                                        576.0                 30,90%  "
      ]
     },
     "execution_count": 19,
     "metadata": {},
     "output_type": "execute_result"
    }
   ],
   "source": [
    "import pandas as pd\n",
    "\n",
    "df = pd.read_csv(r'C:\\Users\\57317\\Desktop\\Universidad Nacional\\Programación\\Python\\Curso Introducción a Python y R\\Bases de datos\\osb_ocupacion_ucis_covid.csv', delimiter=\";\")\n",
    "df.head()"
   ]
  },
  {
   "cell_type": "code",
   "execution_count": 23,
   "metadata": {},
   "outputs": [
    {
     "data": {
      "text/html": [
       "<div>\n",
       "<style scoped>\n",
       "    .dataframe tbody tr th:only-of-type {\n",
       "        vertical-align: middle;\n",
       "    }\n",
       "\n",
       "    .dataframe tbody tr th {\n",
       "        vertical-align: top;\n",
       "    }\n",
       "\n",
       "    .dataframe thead th {\n",
       "        text-align: right;\n",
       "    }\n",
       "</style>\n",
       "<table border=\"1\" class=\"dataframe\">\n",
       "  <thead>\n",
       "    <tr style=\"text-align: right;\">\n",
       "      <th></th>\n",
       "      <th>Fecha</th>\n",
       "      <th>Camas UCI ocupadas Covid-19</th>\n",
       "      <th>Total camas UCI COVID 19 reportadas por IPS</th>\n",
       "      <th>Ocupaci�n UCI COVID 19</th>\n",
       "    </tr>\n",
       "  </thead>\n",
       "  <tbody>\n",
       "    <tr>\n",
       "      <th>595</th>\n",
       "      <td>25/11/2021</td>\n",
       "      <td>264.0</td>\n",
       "      <td>569.0</td>\n",
       "      <td>46,40%</td>\n",
       "    </tr>\n",
       "    <tr>\n",
       "      <th>596</th>\n",
       "      <td>26/11/2021</td>\n",
       "      <td>261.0</td>\n",
       "      <td>566.0</td>\n",
       "      <td>46,11%</td>\n",
       "    </tr>\n",
       "    <tr>\n",
       "      <th>597</th>\n",
       "      <td>NaN</td>\n",
       "      <td>NaN</td>\n",
       "      <td>NaN</td>\n",
       "      <td>NaN</td>\n",
       "    </tr>\n",
       "    <tr>\n",
       "      <th>598</th>\n",
       "      <td>Fuente camas ocupadas y camas asignadas: Red p...</td>\n",
       "      <td>NaN</td>\n",
       "      <td>NaN</td>\n",
       "      <td>NaN</td>\n",
       "    </tr>\n",
       "    <tr>\n",
       "      <th>599</th>\n",
       "      <td>Fuente camas ocupadas y camas asignadas Aplica...</td>\n",
       "      <td>NaN</td>\n",
       "      <td>NaN</td>\n",
       "      <td>NaN</td>\n",
       "    </tr>\n",
       "  </tbody>\n",
       "</table>\n",
       "</div>"
      ],
      "text/plain": [
       "                                                 Fecha  \\\n",
       "595                                         25/11/2021   \n",
       "596                                         26/11/2021   \n",
       "597                                                NaN   \n",
       "598  Fuente camas ocupadas y camas asignadas: Red p...   \n",
       "599  Fuente camas ocupadas y camas asignadas Aplica...   \n",
       "\n",
       "     Camas UCI ocupadas Covid-19  Total camas UCI COVID 19 reportadas por IPS  \\\n",
       "595                        264.0                                        569.0   \n",
       "596                        261.0                                        566.0   \n",
       "597                          NaN                                          NaN   \n",
       "598                          NaN                                          NaN   \n",
       "599                          NaN                                          NaN   \n",
       "\n",
       "    Ocupaci�n UCI COVID 19  \n",
       "595                 46,40%  \n",
       "596                 46,11%  \n",
       "597                    NaN  \n",
       "598                    NaN  \n",
       "599                    NaN  "
      ]
     },
     "execution_count": 23,
     "metadata": {},
     "output_type": "execute_result"
    }
   ],
   "source": [
    "df.tail()"
   ]
  }
 ],
 "metadata": {
  "colab": {
   "name": "(6) Recursión y manejo de archivos.ipynb",
   "provenance": []
  },
  "kernelspec": {
   "display_name": "Python 3",
   "language": "python",
   "name": "python3"
  },
  "language_info": {
   "codemirror_mode": {
    "name": "ipython",
    "version": 3
   },
   "file_extension": ".py",
   "mimetype": "text/x-python",
   "name": "python",
   "nbconvert_exporter": "python",
   "pygments_lexer": "ipython3",
   "version": "3.8.5"
  }
 },
 "nbformat": 4,
 "nbformat_minor": 1
}
