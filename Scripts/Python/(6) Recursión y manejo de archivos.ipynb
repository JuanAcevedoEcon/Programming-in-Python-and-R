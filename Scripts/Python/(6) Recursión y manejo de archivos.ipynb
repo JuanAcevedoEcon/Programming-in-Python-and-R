{
 "cells": [
  {
   "cell_type": "markdown",
   "metadata": {
    "id": "lKz4qDgK63p0"
   },
   "source": [
    "## Args y Kwargs en Python\n",
    "\n",
    "Hasta el momento hemos visto un componente básico de las funciones; sin embargo, ¿cómo definimos una función que no tiene un número dijo de parámetros? Supongamos que, se desea realizar un programa capaz de realizar la sumatoria de todos los números que se ingresen, si a priori conocemos que la cantidad de números es de 3, la función correspondiente sería:"
   ]
  },
  {
   "cell_type": "code",
   "execution_count": null,
   "metadata": {
    "id": "CTIluIoG63p8",
    "outputId": "15f31fc0-e1dd-40a8-c889-fd52016618d0"
   },
   "outputs": [],
   "source": [
    "def suma(_, _, _):\n",
    "    return _______\n",
    "\n",
    "suma(_, _, _)"
   ]
  },
  {
   "cell_type": "markdown",
   "metadata": {
    "id": "sTgZ4AJF63qA"
   },
   "source": [
    "¿Pero si queremos sumar cuatro números con la función? Miremos lo que pasa"
   ]
  },
  {
   "cell_type": "code",
   "execution_count": null,
   "metadata": {
    "id": "KEmDbDul63qC",
    "outputId": "d1dbdcd2-26d3-40d5-b641-ba25b47d7230"
   },
   "outputs": [],
   "source": [
    "suma(_, _, _, _)"
   ]
  },
  {
   "cell_type": "markdown",
   "metadata": {
    "id": "w_MFSbUH63qD"
   },
   "source": [
    "Para resolver este problema, utilizaremos Args y Kwargs. "
   ]
  },
  {
   "cell_type": "code",
   "execution_count": null,
   "metadata": {
    "id": "Dai4CXIu63qE",
    "outputId": "158de553-f591-402d-a75e-4687c16d2f74"
   },
   "outputs": [],
   "source": [
    "def _____(_____): \n",
    "    s = 0 \n",
    "    for ___ in ____: \n",
    "        s += ___ \n",
    "    return s \n",
    "\n",
    "_____()"
   ]
  },
  {
   "cell_type": "markdown",
   "metadata": {
    "id": "6CJY4Mxn63qH"
   },
   "source": [
    "Logramos solucionar nuestro problema inicial; empero, existe otra forma de solucionarlo: **Kwargs"
   ]
  },
  {
   "cell_type": "code",
   "execution_count": null,
   "metadata": {
    "id": "IF0gFo1863qJ",
    "outputId": "8ee27e05-11e0-4e78-d929-b91b03dc9bd8"
   },
   "outputs": [],
   "source": [
    "def suma(________):\n",
    "    print(type(________))\n",
    "    \n",
    "suma()"
   ]
  },
  {
   "cell_type": "code",
   "execution_count": null,
   "metadata": {
    "id": "VUq25eFf63qL",
    "outputId": "c8ad58da-e9dd-484b-a354-2814a6d882ff"
   },
   "outputs": [],
   "source": [
    "def suma(________):\n",
    "    s = 0\n",
    "    for ___, _____ in ________._______():\n",
    "        print(str(___) + \" = \"+ str(_____))\n",
    "        s += _____\n",
    "    return s\n",
    "\n",
    "suma(________)"
   ]
  },
  {
   "cell_type": "markdown",
   "metadata": {
    "id": "ylhPddse63qO"
   },
   "source": [
    "## Recursión\n",
    "\n",
    "Los ejemplos más típicos para este concepto son: calculo factorial y la serie de fibonacci."
   ]
  },
  {
   "cell_type": "markdown",
   "metadata": {
    "id": "w4PP49Ob63qP"
   },
   "source": [
    "### Factorial\n",
    "\n",
    "Nuestra intención es realizar el cálculo del factorial de un número n!. El factorial de un número n se define como la multiplicación de todos sus números predecesores hasta llegar a uno. Por lo tanto 5!, leído como cinco factorial, sería 5 * 4 * 3 * 2 * 1. Con el enfoque tradicional que hemos visto hasta el momento, podríamos realizarlo con un ciclo while:"
   ]
  },
  {
   "cell_type": "code",
   "execution_count": null,
   "metadata": {
    "id": "JUjO0Fev63qQ",
    "outputId": "a31b859c-64e8-4f90-fb09-0d25776d256f"
   },
   "outputs": [],
   "source": [
    "def factorial_normal(n):\n",
    "    _ = _ \n",
    "    _ = _  \n",
    "    while _ <= _: \n",
    "        _ *= _\n",
    "        _ += 1 \n",
    "    return r\n",
    "\n",
    "factorial_normal()"
   ]
  },
  {
   "cell_type": "markdown",
   "metadata": {
    "id": "IMiU-1dw63qR"
   },
   "source": [
    "Empleando la recursividad:"
   ]
  },
  {
   "cell_type": "code",
   "execution_count": null,
   "metadata": {
    "id": "OuJ6TPjY63qR",
    "outputId": "f17ada07-0bf2-4249-ffca-26d01e359912"
   },
   "outputs": [],
   "source": [
    "def factorial_recursivo(n):\n",
    "    if _ == _:\n",
    "        return _\n",
    "    else:\n",
    "        return _ * ______________(___) \n",
    "    \n",
    "factorial_recursivo(_)"
   ]
  },
  {
   "cell_type": "markdown",
   "metadata": {
    "id": "5IgxMQN363qT"
   },
   "source": [
    "### Serie de Fibonacci\n",
    "\n",
    "Dicha serie calcula el elemento n sumando los dos anteriores n-1 + n-2. Se asume que los dos primeros elementos son 0 y 1."
   ]
  },
  {
   "cell_type": "code",
   "execution_count": null,
   "metadata": {
    "id": "qghML31Y63qU",
    "outputId": "b8bf56e0-8a55-4796-ea95-863b1a3e39e5"
   },
   "outputs": [],
   "source": [
    "def fibonacci_recursivo(n):\n",
    "    if n == 0:\n",
    "        return 0\n",
    "    elif n == 1:\n",
    "        return 1\n",
    "    else:\n",
    "        return ____________________(___) + ____________________(___)\n",
    "    \n",
    "fibonacci_recursivo(_)"
   ]
  },
  {
   "cell_type": "markdown",
   "metadata": {
    "id": "AHoV7_Tn63qV"
   },
   "source": [
    "## Lectura de archivos\n",
    "\n",
    "Podemos abrir el fichero con la función open() pasando como argumento el nombre del fichero que queremos abrir."
   ]
  },
  {
   "cell_type": "code",
   "execution_count": null,
   "metadata": {
    "id": "bBBhy7Hu63qW"
   },
   "outputs": [],
   "source": [
    "fichero = ______(\"ejemplo.txt\")"
   ]
  },
  {
   "cell_type": "markdown",
   "metadata": {
    "id": "mG2dOcg463qW"
   },
   "source": [
    "**Método read** "
   ]
  },
  {
   "cell_type": "code",
   "execution_count": null,
   "metadata": {
    "id": "RgD5HNzh63qX",
    "outputId": "577098b3-3e73-46ba-fe92-fa602110b475"
   },
   "outputs": [],
   "source": [
    "print(____________)"
   ]
  },
  {
   "cell_type": "markdown",
   "metadata": {
    "id": "8hVvrm2W63qY"
   },
   "source": [
    "**Método readline()**"
   ]
  },
  {
   "cell_type": "code",
   "execution_count": null,
   "metadata": {},
   "outputs": [],
   "source": []
  },
  {
   "cell_type": "markdown",
   "metadata": {
    "id": "sEfzSn7b63qZ"
   },
   "source": [
    "**Método readlines()**"
   ]
  },
  {
   "cell_type": "code",
   "execution_count": null,
   "metadata": {},
   "outputs": [],
   "source": []
  },
  {
   "cell_type": "markdown",
   "metadata": {
    "id": "VINEDcE363qa"
   },
   "source": [
    "**Argumentos de open()**\n",
    "\n",
    "Hasta ahora hemos visto la función open() con tan sólo un argumento de entrada, el nombre del fichero. Lo cierto es que existe un segundo argumento que es importante especificar. Se trata del modo de apertura del fichero. \n",
    "\n",
    "    -> ‘r’: Por defecto, para leer el fichero.\n",
    "    -> ‘w’: Para escribir en el fichero.\n",
    "    -> ‘x’: Para la creación, fallando si ya existe.\n",
    "    -> ‘a’: Para añadir contenido a un fichero existente.\n",
    "    -> ‘b’: Para abrir en modo binario."
   ]
  },
  {
   "cell_type": "code",
   "execution_count": null,
   "metadata": {},
   "outputs": [],
   "source": []
  },
  {
   "cell_type": "code",
   "execution_count": null,
   "metadata": {},
   "outputs": [],
   "source": []
  },
  {
   "cell_type": "markdown",
   "metadata": {
    "id": "csViuXmp63qc"
   },
   "source": [
    "### Escritura en archivos\n",
    "Sigamos trabajando con Open() haciendo énfasis en:\n",
    " \n",
    "    -> ‘w’: Borra el fichero si ya existiese y crea uno nuevo con el nombre indicado.\n",
    "    -> ‘a’: Añadirá el contenido al final del fichero si ya existiese (append end Inglés)\n",
    "    -> ‘x’: Si ya existe el fichero se devuelve un error.\n",
    "    \n",
    "    Iniciemos creando un fichero"
   ]
  },
  {
   "cell_type": "code",
   "execution_count": null,
   "metadata": {},
   "outputs": [],
   "source": []
  },
  {
   "cell_type": "markdown",
   "metadata": {
    "id": "harjsvD263qd"
   },
   "source": [
    "Si por lo contrario queremos añadir el contenido al ya existente en un fichero de antes, podemos hacerlo en el modo append."
   ]
  },
  {
   "cell_type": "code",
   "execution_count": null,
   "metadata": {},
   "outputs": [],
   "source": []
  },
  {
   "cell_type": "markdown",
   "metadata": {
    "id": "yqnllcvb63qe"
   },
   "source": [
    "**Método write()**"
   ]
  },
  {
   "cell_type": "code",
   "execution_count": null,
   "metadata": {},
   "outputs": [],
   "source": []
  },
  {
   "cell_type": "code",
   "execution_count": null,
   "metadata": {},
   "outputs": [],
   "source": []
  },
  {
   "cell_type": "markdown",
   "metadata": {
    "id": "0TylfNFj63qg"
   },
   "source": [
    "**Método writelines()**"
   ]
  },
  {
   "cell_type": "code",
   "execution_count": null,
   "metadata": {},
   "outputs": [],
   "source": []
  },
  {
   "cell_type": "markdown",
   "metadata": {
    "id": "Va0SZ8c063qg"
   },
   "source": [
    "**Uso del with** Podemos ahorrar una línea de código si hacemos uso de lo siguiente. En este caso nos podemos ahorrar la llamada al close() ya que se realiza automáticamente. "
   ]
  },
  {
   "cell_type": "code",
   "execution_count": null,
   "metadata": {},
   "outputs": [],
   "source": []
  },
  {
   "cell_type": "markdown",
   "metadata": {
    "id": "d6qitYgV63qh"
   },
   "source": [
    "## Librerías"
   ]
  },
  {
   "cell_type": "markdown",
   "metadata": {
    "id": "v-39zkZX63qh"
   },
   "source": [
    "### NumPy"
   ]
  },
  {
   "cell_type": "code",
   "execution_count": null,
   "metadata": {
    "id": "apLt1Jwh63qi",
    "outputId": "9df93201-0ddf-454b-ad6c-df89e3137eba"
   },
   "outputs": [],
   "source": [
    "import ______\n",
    "\n",
    "arr = ______.______([1, 2, 3, 4, 5])\n",
    "print(arr)"
   ]
  },
  {
   "cell_type": "code",
   "execution_count": null,
   "metadata": {
    "id": "cwr5_8ut63qi",
    "outputId": "810a82ba-db7f-4e53-bdc6-3d42418d642b"
   },
   "outputs": [],
   "source": [
    "import ______ as __\n",
    "\n",
    "arr = __.______([1, 2, 3, 4, 5])\n",
    "\n",
    "print(arr)"
   ]
  },
  {
   "cell_type": "code",
   "execution_count": null,
   "metadata": {
    "id": "r4iy1FkO63qj",
    "outputId": "adfd19fc-f47d-4f29-c5da-073d159c8133"
   },
   "outputs": [],
   "source": [
    "print(______(arr))"
   ]
  },
  {
   "cell_type": "markdown",
   "metadata": {
    "id": "AHwHKJik63qk"
   },
   "source": [
    "Las matrices 0-D, o escalares, son los elementos de una matriz. Cada valor de una matriz es una matriz 0-D."
   ]
  },
  {
   "cell_type": "code",
   "execution_count": null,
   "metadata": {
    "id": "Md4_rFNt63qk",
    "outputId": "c5a0353a-c5b5-41a3-bc3c-4bd2469dc284"
   },
   "outputs": [],
   "source": [
    "arr = np.______()\n",
    "print(arr)"
   ]
  },
  {
   "cell_type": "markdown",
   "metadata": {
    "id": "99bhXjsi63ql"
   },
   "source": [
    "Una matriz que tiene matrices 0-D como sus elementos se llama matriz unidimensional o 1-D."
   ]
  },
  {
   "cell_type": "code",
   "execution_count": null,
   "metadata": {
    "id": "o2zXcfkg63ql",
    "outputId": "f731821b-7237-4df4-dee1-67b6efd40384"
   },
   "outputs": [],
   "source": [
    "arr = np.______([1, 2, 3, 4, 5])\n",
    "print(arr)"
   ]
  },
  {
   "cell_type": "markdown",
   "metadata": {
    "id": "Z7w6_GZr63qm"
   },
   "source": [
    "Una matriz que tiene matrices 1-D como sus elementos se denomina matriz 2-D. A menudo se utilizan para representar tensores de matriz o de segundo orden."
   ]
  },
  {
   "cell_type": "code",
   "execution_count": null,
   "metadata": {
    "id": "XvdjVkje63qn",
    "outputId": "39641d17-97a6-44a1-cc79-5b980eb8f36b",
    "scrolled": true
   },
   "outputs": [],
   "source": [
    "arr = np.______(______,______)\n",
    "print(arr)"
   ]
  },
  {
   "cell_type": "code",
   "execution_count": null,
   "metadata": {
    "id": "4TjloXwa63qo",
    "outputId": "0ce02170-c675-4487-ea0c-8e870d591283"
   },
   "outputs": [],
   "source": [
    "print('2do elemento en 1ra fila: ', ______)"
   ]
  },
  {
   "cell_type": "markdown",
   "metadata": {
    "id": "3IrB6wa063qo"
   },
   "source": [
    "Una matriz que tiene matrices 2-D (matrices) como sus elementos se llama matriz 3-D. A menudo se utilizan para representar un tensor de tercer orden."
   ]
  },
  {
   "cell_type": "code",
   "execution_count": null,
   "metadata": {
    "id": "tG9A9qz563qo",
    "outputId": "ae069288-9451-4cfe-e4cd-950b3c33e38c",
    "scrolled": true
   },
   "outputs": [],
   "source": [
    "arr = np.______([[______, ______], [______, ______]])\n",
    "print(arr)"
   ]
  },
  {
   "cell_type": "code",
   "execution_count": null,
   "metadata": {
    "id": "Uc7Z0X2K63qp",
    "outputId": "8f30044b-dcd8-4641-dc31-817fb693c49d"
   },
   "outputs": [],
   "source": [
    "print(______) # Acceda al tercer elemento de la segunda matriz de la primera matriz"
   ]
  },
  {
   "cell_type": "code",
   "execution_count": null,
   "metadata": {
    "id": "ZLXjDgy663qp",
    "outputId": "1f77ae6f-9b38-499a-d3ae-32420e31ba45"
   },
   "outputs": [],
   "source": [
    "# Para verificar las dimensiones\n",
    "\n",
    "a = np.______(42)\n",
    "b = np.______([1, 2, 3, 4, 5])\n",
    "c = np.______([[1, 2, 3], [4, 5, 6]])\n",
    "d = np.______([[[1, 2, 3], [4, 5, 6]], [[1, 2, 3], [4, 5, 6]]])\n",
    "\n",
    "print(a.______)\n",
    "print(b.______)\n",
    "print(c.______)\n",
    "print(d.______)"
   ]
  },
  {
   "cell_type": "markdown",
   "metadata": {
    "id": "3d0wgx-b63qq"
   },
   "source": [
    "**Con numpy podemos hacer distribuciones**"
   ]
  },
  {
   "cell_type": "code",
   "execution_count": null,
   "metadata": {
    "id": "qNcoiXjP63qq",
    "outputId": "85a7037b-d482-4953-df6b-67370f5c317b"
   },
   "outputs": [],
   "source": [
    "from numpy import random\n",
    "\n",
    "x = random.______(size=(_, _))\n",
    "print(x)"
   ]
  },
  {
   "cell_type": "code",
   "execution_count": null,
   "metadata": {
    "id": "uJtq6fx463qr",
    "outputId": "3da85bcf-9a70-4b35-edd1-2478d01edde1"
   },
   "outputs": [],
   "source": [
    "x = random.normal(___=1, ______=2, size=(_, _)) \n",
    "print(x)"
   ]
  },
  {
   "cell_type": "code",
   "execution_count": null,
   "metadata": {
    "id": "ux3lLeBM63qr",
    "outputId": "a8e65e31-890c-4f38-e72d-ddac4889b49d",
    "scrolled": true
   },
   "outputs": [],
   "source": [
    "# Visualización\n",
    "import matplotlib.pyplot as ___\n",
    "import seaborn as ___"
   ]
  },
  {
   "cell_type": "code",
   "execution_count": null,
   "metadata": {
    "id": "IJiBjiTF63qr",
    "outputId": "ee3cc4fe-99ae-45b5-bfdb-537467c63ece"
   },
   "outputs": [],
   "source": [
    "# Hagamos una distribución uniforme\n",
    "sns.distplot(__________________, hist=______);"
   ]
  },
  {
   "cell_type": "code",
   "execution_count": null,
   "metadata": {
    "id": "n8fYsbBb63qs",
    "outputId": "f075653b-ff72-40ff-b241-3f7fb3e9a00a"
   },
   "outputs": [],
   "source": [
    "# Hagamos una logística\n",
    "sns.distplot(__________________, hist=______);"
   ]
  },
  {
   "cell_type": "markdown",
   "metadata": {
    "id": "tXGD0_ng63qs"
   },
   "source": [
    "### Pandas"
   ]
  },
  {
   "cell_type": "code",
   "execution_count": null,
   "metadata": {
    "id": "FzdPwWkA63qt",
    "outputId": "6b7eb248-45f3-4ea8-cd89-d7eabb52356d"
   },
   "outputs": [],
   "source": [
    "import pandas\n",
    "\n",
    "mydataset = {\n",
    "    'Carro': [\"BMW\", \"Volvo\", \"Ford\"],\n",
    "    'Asientos': [3, 7, 2]\n",
    "}\n",
    "\n",
    "myvar = pandas.___________(___________)\n",
    "\n",
    "print(______)"
   ]
  },
  {
   "cell_type": "code",
   "execution_count": null,
   "metadata": {
    "id": "9RE0GzuJ63qt",
    "outputId": "5b97ef56-81ab-4a93-f712-8f113d5caa01"
   },
   "outputs": [],
   "source": [
    "import pandas as pd\n",
    "\n",
    "mydataset = {\n",
    "    'Carro': [\"BMW\", \"Volvo\", \"Ford\"],\n",
    "    'Asientos': [3, 7, 2]\n",
    "}\n",
    "\n",
    "myvar = __.___________(___________)\n",
    "print(______)"
   ]
  },
  {
   "cell_type": "markdown",
   "metadata": {
    "id": "K5_YbR3563qu"
   },
   "source": [
    "#### Series \n",
    "\n",
    "Una serie Pandas es como una columna en una tabla. Es una matriz unidimensional que contiene datos de cualquier tipo."
   ]
  },
  {
   "cell_type": "code",
   "execution_count": null,
   "metadata": {},
   "outputs": [],
   "source": []
  },
  {
   "cell_type": "markdown",
   "metadata": {
    "id": "Vx_lXQ5V63qw"
   },
   "source": [
    "#### DataFrame\n",
    "Un DataFrame de Pandas es una estructura de datos bidimensional, como una matriz bidimensional o una tabla con filas y columnas."
   ]
  },
  {
   "cell_type": "code",
   "execution_count": null,
   "metadata": {},
   "outputs": [],
   "source": []
  },
  {
   "cell_type": "code",
   "execution_count": null,
   "metadata": {
    "id": "Xdn6MHqH63qw",
    "outputId": "eb77dc74-a7e1-408f-88a1-aea938b618f1"
   },
   "outputs": [],
   "source": [
    "data = {\n",
    "  \"Calorias\": [420, 380, 390],\n",
    "  \"Duracion\": [50, 40, 45]\n",
    "}\n",
    "\n",
    "df = pd.___________(data)\n",
    "\n",
    "print(df) "
   ]
  },
  {
   "cell_type": "code",
   "execution_count": null,
   "metadata": {
    "id": "HRSMs5Ua63qy",
    "outputId": "b2ec0058-d307-44ab-d800-f1907620098f"
   },
   "outputs": [],
   "source": [
    "data = {\n",
    "  \"Calorias\": [420, 380, 390],\n",
    "  \"Duracion\": [50, 40, 45]\n",
    "}\n",
    "\n",
    "df = pd.___________(data, ______ = [\"dia1\", \"dia2\", \"dia3\"])\n",
    "\n",
    "print(df) "
   ]
  },
  {
   "cell_type": "code",
   "execution_count": null,
   "metadata": {
    "id": "P6Mj1m7v63qy",
    "outputId": "f10e7a4b-f30f-4991-ec87-a93dcacfa146"
   },
   "outputs": [],
   "source": [
    "print(df.___[\"___\"])"
   ]
  },
  {
   "cell_type": "markdown",
   "metadata": {
    "id": "1rrmCimK63qz"
   },
   "source": [
    "#### Cargar archivo csv\n",
    "Pandas nos permite cargar diverentes tipos de archivos, entre esos el csv"
   ]
  },
  {
   "cell_type": "code",
   "execution_count": null,
   "metadata": {
    "id": "70GvA_ot63qz",
    "outputId": "16ef25f6-f7cd-4155-f327-3a40a4177bd2"
   },
   "outputs": [],
   "source": [
    "import pandas as pd\n",
    "\n",
    "df = pd.___________(r'osb_ocupacion_ucis_covid.csv',delimiter=\"_\")\n",
    "\n",
    "df.head()"
   ]
  }
 ],
 "metadata": {
  "colab": {
   "name": "(6) Recursión y manejo de archivos.ipynb",
   "provenance": []
  },
  "kernelspec": {
   "display_name": "Python 3",
   "language": "python",
   "name": "python3"
  },
  "language_info": {
   "codemirror_mode": {
    "name": "ipython",
    "version": 3
   },
   "file_extension": ".py",
   "mimetype": "text/x-python",
   "name": "python",
   "nbconvert_exporter": "python",
   "pygments_lexer": "ipython3",
   "version": "3.8.5"
  }
 },
 "nbformat": 4,
 "nbformat_minor": 1
}
