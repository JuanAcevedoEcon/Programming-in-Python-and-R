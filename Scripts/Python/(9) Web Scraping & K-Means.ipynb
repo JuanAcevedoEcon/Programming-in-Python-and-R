{
 "cells": [
  {
   "cell_type": "markdown",
   "metadata": {},
   "source": [
    "### Web scraping"
   ]
  },
  {
   "cell_type": "code",
   "execution_count": null,
   "metadata": {},
   "outputs": [],
   "source": [
    "import pandas as pd \n",
    "import seaborn as sns\n",
    "import matplotlib.pyplot as plt"
   ]
  },
  {
   "cell_type": "code",
   "execution_count": null,
   "metadata": {},
   "outputs": [],
   "source": [
    "from bs4 import _________\n",
    "import _________"
   ]
  },
  {
   "cell_type": "code",
   "execution_count": null,
   "metadata": {},
   "outputs": [],
   "source": [
    "url = \"https://www.larepublica.co/indicadores-economicos\"\n",
    "page = _________.get(___)\n",
    "soup = BeautifulSoup(page.______, \"html.parser\")"
   ]
  },
  {
   "cell_type": "code",
   "execution_count": null,
   "metadata": {},
   "outputs": [],
   "source": [
    "pd.DataFrame({\"Valor Indicador\": ___________}, index = ___________)"
   ]
  },
  {
   "cell_type": "code",
   "execution_count": null,
   "metadata": {},
   "outputs": [],
   "source": [
    "base_final = pd.DataFrame({\"Valor Indicador\": ___________}, index = ___________)"
   ]
  },
  {
   "cell_type": "code",
   "execution_count": null,
   "metadata": {},
   "outputs": [],
   "source": [
    "ruta = r\"Indicadores.xlsx\"\n",
    "base_final.to_excel(ruta, encoding = \"utf-16\")"
   ]
  },
  {
   "cell_type": "markdown",
   "metadata": {},
   "source": [
    "### K-means"
   ]
  },
  {
   "cell_type": "code",
   "execution_count": null,
   "metadata": {},
   "outputs": [],
   "source": [
    "import pandas as pd\n",
    "import matplotlib.pyplot as plt\n",
    "\n",
    "from sklearn.preprocessing import MinMaxScaler \n",
    "from sklearn.cluster import KMeans\n",
    "\n",
    "import warnings\n",
    "warnings.filterwarnings('ignore')\n",
    "\n",
    "clientes = pd.DataFrame({\"saldo\" : [50000, 45000, 48000, 43500, 47000, 52000, \n",
    "                                    20000, 26000, 25000, 23000, 21400, 18000,\n",
    "                                    8000, 12000, 6000, 14500, 12600, 7000],\n",
    "                         \n",
    "                         \"transacciones\": [25, 20, 16, 23, 25, 18,\n",
    "                                           23, 22, 24, 21, 27, 18,\n",
    "                                           8, 3, 6, 4, 9, 3]})\n",
    "\n",
    "escalador = __________().fit(clientes.values)\n",
    "\n",
    "clientes = pd.DataFrame(escalador.__________(clientes.values),\n",
    "                       columns=[\"saldo\", \"transacciones\"])\n",
    "\n",
    "kmeans = KMeans(__________).fit(clientes.values)"
   ]
  },
  {
   "cell_type": "code",
   "execution_count": null,
   "metadata": {
    "scrolled": false
   },
   "outputs": [],
   "source": [
    "plt.figure(figsize=(6, 5), dpi=100)\n",
    "\n",
    "colores = [\"red\", \"blue\", \"orange\", \"black\", \"purple\", \"pink\", \"brown\"]\n",
    "\n",
    "for cluster in range(kmeans.n_clusters):\n",
    "    plt.scatter(clientes[clientes[\"cluster\"] == cluster][\"saldo\"],\n",
    "                clientes[clientes[\"cluster\"] == cluster][\"transacciones\"],\n",
    "                marker=\"o\", s=180, color=colores[cluster], alpha=0.5)\n",
    "    \n",
    "    plt.scatter(kmeans.cluster_centers_[cluster][0], \n",
    "                kmeans.cluster_centers_[cluster][1], \n",
    "                marker=\"P\", s=280, color=colores[cluster])\n",
    "\n",
    "plt.title(\"Clientes\", fontsize=20)\n",
    "plt.xlabel(\"Saldo en cuenta de ahorros (pesos)\", fontsize=15)\n",
    "plt.ylabel(\"Veces que usó tarjeta de crédito\", fontsize=15)\n",
    "plt.text(1.15, 0.2, \"K = %i\" % kmeans.n_clusters, fontsize=25)\n",
    "plt.text(1.15, 0, \"Inercia = %0.2f\" % kmeans.inertia_, fontsize=25)\n",
    "plt.xlim(-0.1, 1.1)\n",
    "plt.ylim(-0.1, 1.1)    \n",
    "plt.show()\n",
    "\n",
    "del clientes[\"cluster\"] "
   ]
  },
  {
   "cell_type": "markdown",
   "metadata": {},
   "source": [
    "### Método del codo (k)"
   ]
  },
  {
   "cell_type": "code",
   "execution_count": null,
   "metadata": {},
   "outputs": [],
   "source": [
    "plt.figure(figsize=(6, 5), dpi=100)\n",
    "plt.scatter(range(2, 10), inercias, marker=\"o\", s=180, color=\"purple\")\n",
    "plt.xlabel(\"Número de Clusters\", fontsize=25)\n",
    "plt.ylabel(\"Inercia\", fontsize=25)\n",
    "plt.show()"
   ]
  }
 ],
 "metadata": {
  "kernelspec": {
   "display_name": "Python 3",
   "language": "python",
   "name": "python3"
  },
  "language_info": {
   "codemirror_mode": {
    "name": "ipython",
    "version": 3
   },
   "file_extension": ".py",
   "mimetype": "text/x-python",
   "name": "python",
   "nbconvert_exporter": "python",
   "pygments_lexer": "ipython3",
   "version": "3.8.5"
  }
 },
 "nbformat": 4,
 "nbformat_minor": 4
}
